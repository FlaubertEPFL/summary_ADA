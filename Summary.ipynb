{
 "cells": [
  {
   "cell_type": "code",
   "execution_count": 208,
   "metadata": {},
   "outputs": [],
   "source": [
    "import numpy as np\n",
    "import pandas as pd\n",
    "import matplotlib.pyplot as plt\n",
    "import seaborn as sns"
   ]
  },
  {
   "attachments": {},
   "cell_type": "markdown",
   "metadata": {},
   "source": [
    "## Table of Contents\n",
    "- [Display Options](#Display_Options)\n",
    "- [Data Frames](#DataFrame)\n",
    "    - [Initialize](#initalize_df)\n",
    "    - [Columns](#columns)\n",
    "        - [Add Column (Standard, Apply(), Condition)](#add_col)\n",
    "        - [Change order](#change_col_order)\n",
    "        - [Remove Column](#remove_col)\n",
    "        - [Sum Columns](#sum_col)\n",
    "        - [Get Column Names](#col_names)\n",
    "    - [Rows](#rows)\n",
    "        - [loc](#loc)\n",
    "        - [change a single value](#change_single_value)\n",
    "        - [iloc](#iloc)\n",
    "        - [Show Rows](#show_row)\n",
    "        - [remove row](#remove_row)\n",
    "        - [sum rows](#sum_row)\n",
    "        - [Iterate over rows](#iter_rows)\n",
    "    - [Functions](#func_dataframe)\n",
    "        - [Shape](#shape_df)\n",
    "        - [DTypes](#Dtype)\n",
    "        - [Values](#values_df)\n",
    "        - [Index](#index_df)\n",
    "        - [Show Rows](#show_row)\n",
    "        - [Copy](#copy_df)\n",
    "        - [Reset Index](#reset_index)\n",
    "        - [Isin ()](#isin_)\n",
    "        - [Operations (Addition, Multiplication, sum row/column)](#operations_df)\n",
    "        - [Look at data (head, sample, columns, describe, shape, mean, index, index.is_unique, value count (which value is represented how often, unique values of column))](#look_data)\n",
    "        - [Clean the data (sort, fillna, dropna, drop_duplicates)](#clean_data)\n",
    "        - [Concatenate](#concatenate_)\n",
    "        - [Merge](#merge)\n",
    "        - [Dummy Variables](#dummies)\n",
    "    - [Group by](#group_by)\n",
    "        - [Basic](#basic_groupby)\n",
    "        - [Access groups](#access_groups_groupby)\n",
    "        - [Functions (count, sum)](#func_groupby)\n",
    "        - [Unstack](#unstack_groupby)\n",
    "    - [Select](#select_df)\n",
    "        - [Standard](#standard_select)\n",
    "        - [Query](#query_select)\n",
    "    - [Datetime](#datetime_)\n",
    "    - [Gimmicks](#df_tricks)\n",
    "        - [Pivot()](#pivot_df)\n",
    "        - [Transform category to int](#cat_to_int_df)\n",
    "        - [Transform dtypes](#transform_dtype)\n",
    "        - [Binning using cut](#binning_cut)\n",
    "        - [Split Dataset](#split_dataset)\n",
    "    - [Statistics](#statistics)\n",
    "        - [Check for normal or exponential distribution (k-test)](#k_test)\n",
    "        - [T-test](#t_test)\n",
    "        - [Binomial Test (test whether the probability for success is p)](#binom_test)\n",
    "        - [Pearson Correlation](#pearson_corr)\n",
    "        - [Spearman Correlation](#spearson_corr)\n",
    "        - [Plot Correlation (SNS)](#sns_corr_plot)\n",
    "    - [Regression](#regression_)\n",
    "        - [Scaling (standardization, min-max scaling)](#scaling_reg)\n",
    "        - [Ordinary least squares](#ordinary_least_square)\n",
    "        - [Logistic regression](#log_reg)\n",
    "        - [Res operations](#res_op)\n",
    "    - [Write and Read files](#write_read_file)\n",
    "- [Series](#Series) \n",
    "    - [Initialization](#initialize_ser)\n",
    "    - [Functions (detect NaN - isnull, value_counts)](#func_series)\n",
    "- [Numpy](#numpy) \n",
    "    - [Random Numbers](#random_numpy)\n",
    "    - [Nan Numbers](#nan_numpy)\n",
    "- [List](#list)\n",
    "    - [Iterate over several lists](#iterate_zip)\n",
    "- [String](#string)\n",
    "    - [Functions](#string_func)\n",
    "        - [.endswith()](#endswith)\n",
    "- [General](#general_stuff)\n",
    "    - [Decimals after comma](#decimal_after_comma)"
   ]
  },
  {
   "attachments": {},
   "cell_type": "markdown",
   "metadata": {},
   "source": [
    "Display Options: <a class=\"anchor\" id=\"Display_Options\"></a>"
   ]
  },
  {
   "cell_type": "code",
   "execution_count": 93,
   "metadata": {},
   "outputs": [],
   "source": [
    "pd.set_option('display.max_rows', None)\n",
    "pd.set_option('display.max_columns', None)"
   ]
  },
  {
   "attachments": {},
   "cell_type": "markdown",
   "metadata": {},
   "source": [
    "# DataFrames: <a class=\"anchor\" id=\"DataFrame\"></a>"
   ]
  },
  {
   "cell_type": "code",
   "execution_count": 94,
   "metadata": {},
   "outputs": [],
   "source": [
    "#Hide\n",
    "#generate 25 random values between 0 and 1\n",
    "ftr1 = np.random.random(25)\n",
    "ftr1 = pd.Series(ftr1)\n",
    "\n",
    "ftr2 = np.random.random(25)\n",
    "ftr2 = pd.Series(ftr1)\n",
    "\n",
    "ftr3 = np.random.random(25)\n",
    "ftr3 = pd.Series(ftr1)"
   ]
  },
  {
   "cell_type": "code",
   "execution_count": 95,
   "metadata": {},
   "outputs": [],
   "source": [
    "list_ = ['la', 'le', 'li', 'lo', 'lu']"
   ]
  },
  {
   "attachments": {},
   "cell_type": "markdown",
   "metadata": {},
   "source": [
    "## Initialize <a class=\"anchor\" id=\"initalize_df\"></a>"
   ]
  },
  {
   "cell_type": "code",
   "execution_count": 96,
   "metadata": {},
   "outputs": [],
   "source": [
    "df = pd.DataFrame([], columns=['ftr1', 'ftr2', 'ftr3'])\n",
    "\n",
    "frame = {'ftr1': ftr1, 'ftr2': ftr2, 'ftr3': ftr3}\n",
    "\n",
    "df = pd.DataFrame(frame)"
   ]
  },
  {
   "attachments": {},
   "cell_type": "markdown",
   "metadata": {},
   "source": [
    "Transform a list to a DataFrame:"
   ]
  },
  {
   "cell_type": "code",
   "execution_count": 97,
   "metadata": {},
   "outputs": [],
   "source": [
    "tmp = []\n",
    "for position, value in enumerate(list_):\n",
    "    tmp.append({'position':position, 'value': value})\n",
    "\n",
    "tmp_df = pd.DataFrame(tmp)"
   ]
  },
  {
   "attachments": {},
   "cell_type": "markdown",
   "metadata": {},
   "source": [
    "## Columns: <a class='anchor' id='columns'></a>"
   ]
  },
  {
   "attachments": {},
   "cell_type": "markdown",
   "metadata": {},
   "source": [
    "Add Column: <a class='anchor' id='add_col'></a>"
   ]
  },
  {
   "cell_type": "code",
   "execution_count": 98,
   "metadata": {},
   "outputs": [],
   "source": [
    "'''Standard'''\n",
    "df_changed = df.copy()\n",
    "df_changed['new_ftr'] = df['ftr2']\n",
    "#df_changed\n",
    "\n",
    "'''apply()'''\n",
    "df_changed['new_ftr2'] = df['ftr1'].apply(lambda x: 1 if x < 0.5 else 0)\n",
    "#df_changed\n",
    "\n",
    "'''Condition'''\n",
    "#Separate Conditions with commas if there are severals\n",
    "condition = [\n",
    "    (df['ftr1'] < 0.7) & (df['ftr2'] > 0.3)\n",
    "]\n",
    "value = [1]\n",
    "df_changed['new_ftr3'] = np.select(condition, value, default=0)\n",
    "#df_changed"
   ]
  },
  {
   "attachments": {},
   "cell_type": "markdown",
   "metadata": {},
   "source": [
    "Change Order: <a class='anchor' id='change_col_order'></a>"
   ]
  },
  {
   "cell_type": "code",
   "execution_count": 99,
   "metadata": {},
   "outputs": [],
   "source": [
    "df_changed = df[['ftr2', 'ftr3', 'ftr1']]\n",
    "#df_changed.head()"
   ]
  },
  {
   "attachments": {},
   "cell_type": "markdown",
   "metadata": {},
   "source": [
    "Remove Column: <a class='anchor' id='remove_col'></a>"
   ]
  },
  {
   "cell_type": "code",
   "execution_count": 100,
   "metadata": {},
   "outputs": [],
   "source": [
    "df_changed = df.copy()\n",
    "df_changed = df_changed.drop('ftr1', axis=1)\n",
    "#df_changed.head()"
   ]
  },
  {
   "attachments": {},
   "cell_type": "markdown",
   "metadata": {},
   "source": [
    "Sum up Columns: <a class='anchor' id='sum_col'></a>"
   ]
  },
  {
   "cell_type": "code",
   "execution_count": 101,
   "metadata": {},
   "outputs": [],
   "source": [
    "sum_column = df.sum(axis=0)"
   ]
  },
  {
   "attachments": {},
   "cell_type": "markdown",
   "metadata": {},
   "source": [
    "Get Column Names: <a class='anchor' id='col_names'></a>"
   ]
  },
  {
   "cell_type": "code",
   "execution_count": 102,
   "metadata": {},
   "outputs": [],
   "source": [
    "df.columns\n",
    "a=1"
   ]
  },
  {
   "attachments": {},
   "cell_type": "markdown",
   "metadata": {},
   "source": [
    "## Rows: <a class='anchor' id='rows'></a>"
   ]
  },
  {
   "attachments": {},
   "cell_type": "markdown",
   "metadata": {},
   "source": [
    "loc <a class='anchor' id='loc'></a> <br>\n",
    "loc uses the index, so either a number or a label."
   ]
  },
  {
   "cell_type": "code",
   "execution_count": 103,
   "metadata": {},
   "outputs": [],
   "source": [
    "df.loc[0]\n",
    "df.loc[df['ftr1']>0.5]\n",
    "a=1"
   ]
  },
  {
   "attachments": {},
   "cell_type": "markdown",
   "metadata": {},
   "source": [
    "Change single Value: <a class='anchor' id='change_single_value'></a>"
   ]
  },
  {
   "cell_type": "code",
   "execution_count": 104,
   "metadata": {},
   "outputs": [],
   "source": [
    "df_changed = df.copy()\n",
    "idx = 2\n",
    "df_changed.loc[idx, 'ftr1'] = 10\n",
    "\n",
    "#change multiple values\n",
    "df_changed = df.copy()\n",
    "df_changed.loc[df_changed['ftr1'] > 0.5, 'ftr1'] = 2"
   ]
  },
  {
   "attachments": {},
   "cell_type": "markdown",
   "metadata": {},
   "source": [
    "iloc <a class='anchor' id='iloc'></a> <br>\n",
    "like loc but uses position instead of index/label:"
   ]
  },
  {
   "cell_type": "code",
   "execution_count": 105,
   "metadata": {},
   "outputs": [],
   "source": [
    "df.iloc[idx]\n",
    "a=1"
   ]
  },
  {
   "attachments": {},
   "cell_type": "markdown",
   "metadata": {},
   "source": [
    "### remove a row <a class='anchor' id='remove_row'></a>"
   ]
  },
  {
   "cell_type": "code",
   "execution_count": 106,
   "metadata": {},
   "outputs": [],
   "source": [
    "#idx = 2\n",
    "df_changed = df.copy()\n",
    "df_changed = df_changed.drop(idx)\n",
    "#df_changed.head()"
   ]
  },
  {
   "attachments": {},
   "cell_type": "markdown",
   "metadata": {},
   "source": [
    "### sum rows: <a class='anchor' id='sum_row'></a>"
   ]
  },
  {
   "cell_type": "code",
   "execution_count": 107,
   "metadata": {},
   "outputs": [],
   "source": [
    "sum_row = df[['ftr1','ftr2']].sum(axis=1) #sums up every row of ftr1 and ftr2"
   ]
  },
  {
   "attachments": {},
   "cell_type": "markdown",
   "metadata": {},
   "source": [
    "### iterate over rows: <a class='anchor' id='iter_rows'></a>"
   ]
  },
  {
   "cell_type": "code",
   "execution_count": null,
   "metadata": {},
   "outputs": [],
   "source": [
    "for df_idx, df_row in df.iterrows():\n",
    "    a=1"
   ]
  },
  {
   "attachments": {},
   "cell_type": "markdown",
   "metadata": {},
   "source": [
    "## Functions <a class='anchor' id='func_dataframe'></a>"
   ]
  },
  {
   "attachments": {},
   "cell_type": "markdown",
   "metadata": {},
   "source": [
    "### Shape: <a class='anchor' id='shape_df'></a>"
   ]
  },
  {
   "cell_type": "code",
   "execution_count": 108,
   "metadata": {},
   "outputs": [],
   "source": [
    "df.shape\n",
    "a=1"
   ]
  },
  {
   "attachments": {},
   "cell_type": "markdown",
   "metadata": {},
   "source": [
    "### Types: <a class='anchor' id='Dtype'></a>"
   ]
  },
  {
   "cell_type": "code",
   "execution_count": 109,
   "metadata": {},
   "outputs": [],
   "source": [
    "#Returns the different types of the columns\n",
    "df.dtypes\n",
    "a=1"
   ]
  },
  {
   "attachments": {},
   "cell_type": "markdown",
   "metadata": {},
   "source": [
    "### Values\n",
    "Shows all values <a class='anchor' id='values_df'></a>"
   ]
  },
  {
   "cell_type": "code",
   "execution_count": 110,
   "metadata": {},
   "outputs": [],
   "source": [
    "df.values\n",
    "a=1"
   ]
  },
  {
   "attachments": {},
   "cell_type": "markdown",
   "metadata": {},
   "source": [
    "### Index <a class='anchor' id='index_df'></a>"
   ]
  },
  {
   "cell_type": "code",
   "execution_count": 111,
   "metadata": {},
   "outputs": [
    {
     "data": {
      "text/plain": [
       "RangeIndex(start=0, stop=25, step=1)"
      ]
     },
     "execution_count": 111,
     "metadata": {},
     "output_type": "execute_result"
    }
   ],
   "source": [
    "#return indexes\n",
    "df.index"
   ]
  },
  {
   "attachments": {},
   "cell_type": "markdown",
   "metadata": {},
   "source": [
    "### Show rows: <a class='anchor' id='show_row'></a>"
   ]
  },
  {
   "cell_type": "code",
   "execution_count": 112,
   "metadata": {},
   "outputs": [],
   "source": [
    "n=3\n",
    "#Show first n rows:\n",
    "df[:n]\n",
    "a=1"
   ]
  },
  {
   "attachments": {},
   "cell_type": "markdown",
   "metadata": {},
   "source": [
    "### Copy:\n",
    "<a class='anchor' id='copy_df'></a>"
   ]
  },
  {
   "cell_type": "code",
   "execution_count": 113,
   "metadata": {},
   "outputs": [],
   "source": [
    "df_changed = df.copy()"
   ]
  },
  {
   "attachments": {},
   "cell_type": "markdown",
   "metadata": {},
   "source": [
    "### Reset index <a class='anchor' id='reset_index'></a>"
   ]
  },
  {
   "cell_type": "code",
   "execution_count": 114,
   "metadata": {},
   "outputs": [],
   "source": [
    "df_changed = df[df['ftr1']<0.2]\n",
    "#adding a new index\n",
    "df_changed.reset_index()\n",
    "#adding a new index plus removing the old one\n",
    "df_changed.reset_index(drop=True)\n",
    "a=1"
   ]
  },
  {
   "attachments": {},
   "cell_type": "markdown",
   "metadata": {},
   "source": [
    "### Isin() <a class='anchor' id='isin_'></a>"
   ]
  },
  {
   "cell_type": "code",
   "execution_count": 115,
   "metadata": {},
   "outputs": [],
   "source": [
    "df_special = pd.DataFrame([['Alice', 21], ['Bob', 22], ['Charlie', 23]],\n",
    "                  columns=['Name', 'Age'])\n",
    "\n",
    "df_special['Name'].isin(['Flo','Lars'])\n",
    "df_special['Name'].isin(['Bob','Lars'])\n",
    "\n",
    "any(df_special['Name'].isin(['Flo','Lars']))\n",
    "any(df_special['Name'].isin(['Bob','Lars']))\n",
    "\n",
    "a=1\n"
   ]
  },
  {
   "attachments": {},
   "cell_type": "markdown",
   "metadata": {},
   "source": [
    "### Operations: <a class='anchor' id='operations_df'></a>"
   ]
  },
  {
   "cell_type": "code",
   "execution_count": 262,
   "metadata": {},
   "outputs": [],
   "source": [
    "'''Addition: add one dataframe to another'''\n",
    "df_added = df.add(df)\n",
    "#df_added.head()\n",
    "#you can also df.add(df, fill_value = 3) to avoid nans. Replaces NaN values by 3.\n",
    "df_changed= df.copy()\n",
    "df_changed.loc[2,'ftr1'] = np.nan\n",
    "df_added_nan = df.add(df_changed, fill_value=3)\n",
    "#df_added_nan.head()\n",
    "\n",
    "'''sum rows '''\n",
    "sum_row = df[['ftr1','ftr2']].sum(axis=1) #sums up every row of ftr1 and ftr2\n",
    "'''sum column'''\n",
    "sum_column = df.sum(axis=0)\n",
    "\n",
    "'''Multiplication'''\n",
    "double = df_changed['ftr1'].mul(2)\n"
   ]
  },
  {
   "attachments": {},
   "cell_type": "markdown",
   "metadata": {},
   "source": [
    "### Look at the data: <a class='anchor' id='look_data'></a>"
   ]
  },
  {
   "cell_type": "code",
   "execution_count": 138,
   "metadata": {},
   "outputs": [],
   "source": [
    "df.head(1)\n",
    "df.sample() #like head() but random\n",
    "#df.sample(5, replace=True, weights='ftr1') #Weights high values for ftr1 higher (higher probability to select those)\n",
    "\n",
    "df.columns\n",
    "df.index\n",
    "df.index.is_unique\n",
    "df.shape\n",
    "df.describe()\n",
    "df['ftr1'].describe()\n",
    "df.mean()\n",
    "#df_changed.mean(skipna=True, numeric_only=True)\n",
    "\n",
    "#count which value is represented how often\n",
    "df['ftr1'].value_counts()\n",
    "#Returns all values of a dataframes column and the UNIQUE VALUES:\n",
    "df_special = pd.DataFrame([['Alice', 21], ['Bob', 22], ['Charlie', 23], ['Charlie', 23], ['Charlie', 23]], columns=['Name', 'Age'])\n",
    "s = pd.Categorical(df_special['Name'])\n",
    "unique_values = s.categories\n",
    "\n",
    "a=1"
   ]
  },
  {
   "attachments": {},
   "cell_type": "markdown",
   "metadata": {},
   "source": [
    "### Clean the data: <a class='anchor' id='clean_data'></a>"
   ]
  },
  {
   "cell_type": "code",
   "execution_count": 118,
   "metadata": {},
   "outputs": [],
   "source": [
    "df_changed = df.copy()\n",
    "\n",
    "#order the index\n",
    "df_changed.sort_index(ascending=False) #by default alphabetically or ascending\n",
    "df_changed['ftr1'].sort_values() #index gets updated automatically\n",
    "df_changed\n",
    "\n",
    "#Check for NaNs\n",
    "len(df[df.isna().any(axis=1)])\n",
    "\n",
    "#drop NaNs (drops the entire row)\n",
    "df_changed.loc[2, 'ftr2'] = np.nan\n",
    "df_changed.loc[5] = np.nan\n",
    "df_changed = df_changed.dropna()\n",
    "#df_changed = df_changed.dropna(how='all') #removes only the rows where all columns have NaN\n",
    "df_changed\n",
    "\n",
    "#Fills NaNs\n",
    "df_changed = df.copy()\n",
    "df_changed.loc[2] = np.nan\n",
    "#df_changed = df_changed.fillna(15)\n",
    "df_changed.fillna(15, inplace = True) #Adds the changes directly to the original dataframe\n",
    "#df_changed.fillna({'ftr1':12, 'ftr2':15}, inplace=True) #specify columns\n",
    "df_changed\n",
    "\n",
    "#drop duplicates\n",
    "df_changed = df.copy()\n",
    "df_changed.loc[df_changed['ftr1'] > 0.5, 'ftr1'] = 2\n",
    "df_changed = df_changed.drop_duplicates('ftr1')\n",
    "\n",
    "\n",
    "#a=1"
   ]
  },
  {
   "attachments": {},
   "cell_type": "markdown",
   "metadata": {},
   "source": [
    "### Concatenate <a class='anchor' id='concatenate_'></a>"
   ]
  },
  {
   "cell_type": "code",
   "execution_count": 223,
   "metadata": {},
   "outputs": [],
   "source": [
    "df_changed = df.copy()\n",
    "\n",
    "# Add below (vertically)\n",
    "pd.concat([df_changed, df_changed], axis=0)\n",
    "\n",
    "# Add to the right (horizontally)\n",
    "pd.concat([df_changed, df_changed], axis=1)\n",
    "\n",
    "a=1"
   ]
  },
  {
   "attachments": {},
   "cell_type": "markdown",
   "metadata": {},
   "source": [
    "### Merge: <a class='anchor' id='merge'></a>"
   ]
  },
  {
   "cell_type": "code",
   "execution_count": 273,
   "metadata": {},
   "outputs": [],
   "source": [
    "df_changed1 = df[['ftr1', 'ftr2']].copy()\n",
    "df_changed2 = df[['ftr1', 'ftr3']].copy()\n",
    "\n",
    "merged = pd.merge(df_changed1, df_changed2, on='ftr1')"
   ]
  },
  {
   "attachments": {},
   "cell_type": "markdown",
   "metadata": {},
   "source": [
    "### Dummy Variables: <a class='anchor' id='dummies'></a>"
   ]
  },
  {
   "cell_type": "code",
   "execution_count": 284,
   "metadata": {},
   "outputs": [],
   "source": [
    "df_changed = df_special.copy()\n",
    "df_dummies = pd.get_dummies(df_changed)"
   ]
  },
  {
   "attachments": {},
   "cell_type": "markdown",
   "metadata": {},
   "source": [
    "## Groupby: <a class='anchor' id='group_by'></a>"
   ]
  },
  {
   "attachments": {},
   "cell_type": "markdown",
   "metadata": {},
   "source": [
    "### Basic: <a class='anchor' id='basic_groupby'></a>"
   ]
  },
  {
   "cell_type": "code",
   "execution_count": 146,
   "metadata": {},
   "outputs": [],
   "source": [
    "df_special = pd.DataFrame([['Alice', 22, 2], ['Alice', 23, 6], ['Alice', 24, 8],\n",
    "                            ['Bob', 22, 4], ['Bob', 23, 5], ['Bob', 24, 7],\n",
    "                            ['Charlie', 22, 4], ['Charlie', 23, 5], ['Charlie', 24, 7],\n",
    "                            ],\n",
    "                  columns=['Name', 'day', 'hours'])\n",
    "\n",
    "df_grouped = df_special.groupby('Name')\n",
    "#df_grouped.head()"
   ]
  },
  {
   "attachments": {},
   "cell_type": "markdown",
   "metadata": {},
   "source": [
    "### Access groups: <a class='anchor' id='access_groups_groupby'></a>"
   ]
  },
  {
   "cell_type": "code",
   "execution_count": 157,
   "metadata": {},
   "outputs": [],
   "source": [
    "Names = pd.Categorical(df_special['Name']).categories\n",
    "df_grouped.get_group(Names[2])\n",
    "\n",
    "a=1"
   ]
  },
  {
   "attachments": {},
   "cell_type": "markdown",
   "metadata": {},
   "source": [
    "### Functions: <a class='anchor' id='func_groupby'></a>"
   ]
  },
  {
   "cell_type": "code",
   "execution_count": 169,
   "metadata": {},
   "outputs": [
    {
     "data": {
      "text/plain": [
       "3"
      ]
     },
     "execution_count": 169,
     "metadata": {},
     "output_type": "execute_result"
    }
   ],
   "source": [
    "'''Count -> count number of elements per group'''\n",
    "counts = df_grouped.count()\n",
    "counts\n",
    "\n",
    "'''Size -> almost better than count. size() returns a pandas Series'''\n",
    "size = df_grouped.size()\n",
    "#plot\n",
    "#plt.bar(size.index, size)\n",
    "#Access single count:\n",
    "position1 = np.where(size.index == 'Alice')[0][0]\n",
    "position2 = np.where(size.index == 'Bob')[0][0]\n",
    "\n",
    "access_single_count = size[position1]\n",
    "\n",
    "'''sum -> takes the sum of the values'''\n",
    "sum = df_grouped.sum()\n",
    "sum\n",
    "\n",
    "a=1\n",
    "access_single_count"
   ]
  },
  {
   "attachments": {},
   "cell_type": "markdown",
   "metadata": {},
   "source": [
    "### Unstack: <a class='anchor' id='unstack_groupby'></a>"
   ]
  },
  {
   "cell_type": "code",
   "execution_count": 148,
   "metadata": {},
   "outputs": [
    {
     "ename": "AttributeError",
     "evalue": "'DataFrameGroupBy' object has no attribute 'unstack'",
     "output_type": "error",
     "traceback": [
      "\u001b[1;31m---------------------------------------------------------------------------\u001b[0m",
      "\u001b[1;31mAttributeError\u001b[0m                            Traceback (most recent call last)",
      "\u001b[1;32mc:\\Users\\flori\\Desktop\\EPFL\\ADA\\Summary.ipynb Cell 62\u001b[0m in \u001b[0;36m<cell line: 1>\u001b[1;34m()\u001b[0m\n\u001b[1;32m----> <a href='vscode-notebook-cell:/c%3A/Users/flori/Desktop/EPFL/ADA/Summary.ipynb#Y153sZmlsZQ%3D%3D?line=0'>1</a>\u001b[0m df_unstacked \u001b[39m=\u001b[39m df_special\u001b[39m.\u001b[39;49mgroupby([\u001b[39m'\u001b[39;49m\u001b[39mName\u001b[39;49m\u001b[39m'\u001b[39;49m, \u001b[39m'\u001b[39;49m\u001b[39mday\u001b[39;49m\u001b[39m'\u001b[39;49m])\u001b[39m.\u001b[39;49munstack()\n\u001b[0;32m      <a href='vscode-notebook-cell:/c%3A/Users/flori/Desktop/EPFL/ADA/Summary.ipynb#Y153sZmlsZQ%3D%3D?line=1'>2</a>\u001b[0m df_unstacked\n",
      "File \u001b[1;32mc:\\Users\\flori\\anaconda3\\envs\\ada\\lib\\site-packages\\pandas\\core\\groupby\\groupby.py:904\u001b[0m, in \u001b[0;36mGroupBy.__getattr__\u001b[1;34m(self, attr)\u001b[0m\n\u001b[0;32m    901\u001b[0m \u001b[39mif\u001b[39;00m attr \u001b[39min\u001b[39;00m \u001b[39mself\u001b[39m\u001b[39m.\u001b[39mobj:\n\u001b[0;32m    902\u001b[0m     \u001b[39mreturn\u001b[39;00m \u001b[39mself\u001b[39m[attr]\n\u001b[1;32m--> 904\u001b[0m \u001b[39mraise\u001b[39;00m \u001b[39mAttributeError\u001b[39;00m(\n\u001b[0;32m    905\u001b[0m     \u001b[39mf\u001b[39m\u001b[39m\"\u001b[39m\u001b[39m'\u001b[39m\u001b[39m{\u001b[39;00m\u001b[39mtype\u001b[39m(\u001b[39mself\u001b[39m)\u001b[39m.\u001b[39m\u001b[39m__name__\u001b[39m\u001b[39m}\u001b[39;00m\u001b[39m'\u001b[39m\u001b[39m object has no attribute \u001b[39m\u001b[39m'\u001b[39m\u001b[39m{\u001b[39;00mattr\u001b[39m}\u001b[39;00m\u001b[39m'\u001b[39m\u001b[39m\"\u001b[39m\n\u001b[0;32m    906\u001b[0m )\n",
      "\u001b[1;31mAttributeError\u001b[0m: 'DataFrameGroupBy' object has no attribute 'unstack'"
     ]
    }
   ],
   "source": [
    "#finish later\n",
    "df_unstacked = df_special.groupby(['Name', 'day']).unstack()\n",
    "df_unstacked"
   ]
  },
  {
   "attachments": {},
   "cell_type": "markdown",
   "metadata": {},
   "source": [
    "## Select: <a class='anchor' id='select_df'></a>"
   ]
  },
  {
   "attachments": {},
   "cell_type": "markdown",
   "metadata": {},
   "source": [
    "### Standard <a class='anchor' id='standard_select'></a>"
   ]
  },
  {
   "cell_type": "code",
   "execution_count": 119,
   "metadata": {},
   "outputs": [],
   "source": [
    "#Standard:\n",
    "df_changed = df[df['ftr1']> 0.5]"
   ]
  },
  {
   "attachments": {},
   "cell_type": "markdown",
   "metadata": {},
   "source": [
    "### Query <a class='anchor' id='query_select'></a>"
   ]
  },
  {
   "cell_type": "code",
   "execution_count": 120,
   "metadata": {},
   "outputs": [],
   "source": [
    "df_changed = df.query('ftr1 > 0.4 & ftr2 < 0.5')\n",
    "#df_changed"
   ]
  },
  {
   "attachments": {},
   "cell_type": "markdown",
   "metadata": {},
   "source": [
    "## Datetime <a class='anchor' id='datetime_'></a>"
   ]
  },
  {
   "cell_type": "code",
   "execution_count": 233,
   "metadata": {},
   "outputs": [],
   "source": [
    "df_time = pd.DataFrame(['1998-04-28 09:32:13', '1998-04-28 09:32:13','1998-04-28 09:32:13'], columns=['date'])\n",
    "\n",
    "#Transform string to datetime\n",
    "df_time['date'] = pd.to_datetime(df_time['date'], format=\"%Y-%m-%d %H:%M:%S\")\n",
    "\n",
    "#extract year\n",
    "df_time['year']= df_time['date'].dt.year\n",
    "\n",
    "#extract month\n",
    "df_time['month']= df_time['date'].dt.month\n"
   ]
  },
  {
   "attachments": {},
   "cell_type": "markdown",
   "metadata": {},
   "source": [
    "## Gimmicks: <a class='anchor' id='df_tricks'></a>"
   ]
  },
  {
   "attachments": {},
   "cell_type": "markdown",
   "metadata": {},
   "source": [
    "### Pivot() <a class='anchor' id='pivot_df'></a>"
   ]
  },
  {
   "cell_type": "code",
   "execution_count": 121,
   "metadata": {},
   "outputs": [],
   "source": [
    "df_special = pd.DataFrame([['Alice', 22, 2], ['Alice', 23, 6], ['Alice', 24, 8],\n",
    "                            ['Bob', 22, 4], ['Bob', 23, 5], ['Bob', 24, 7],\n",
    "                            ['Charlie', 22, 4], ['Charlie', 23, 5], ['Charlie', 24, 7],\n",
    "                            ],\n",
    "                  columns=['Name', 'day', 'hours'])\n",
    "\n",
    "df_special.pivot(index='day', columns = 'Name', values = 'hours')\n",
    "\n",
    "a=1"
   ]
  },
  {
   "attachments": {},
   "cell_type": "markdown",
   "metadata": {},
   "source": [
    "### Transform categorical features into integers: <a class='anchor' id='cat_to_int_df'></a>"
   ]
  },
  {
   "cell_type": "code",
   "execution_count": 143,
   "metadata": {},
   "outputs": [],
   "source": [
    "df_special = pd.DataFrame([['Alice', 22, 2], ['Alice', 23, 6], ['Alice', 24, 8],\n",
    "                            ['Bob', 22, 4], ['Bob', 23, 5], ['Bob', 24, 7],\n",
    "                            ['Charlie', 22, 4], ['Charlie', 23, 5], ['Charlie', 24, 7],\n",
    "                            ],\n",
    "                  columns=['Name', 'day', 'hours'])\n",
    "\n",
    "df_special\n",
    "df_special['Name'] = df_special['Name'].astype('category')\n",
    "df_special['Name'] = df_special['Name'].cat.codes\n",
    "df_special\n",
    "a=1"
   ]
  },
  {
   "attachments": {},
   "cell_type": "markdown",
   "metadata": {},
   "source": [
    "### Transform dtypes: <a class='anchor' id='transform_dtype'></a>"
   ]
  },
  {
   "cell_type": "code",
   "execution_count": 280,
   "metadata": {},
   "outputs": [
    {
     "data": {
      "text/plain": [
       "str"
      ]
     },
     "execution_count": 280,
     "metadata": {},
     "output_type": "execute_result"
    }
   ],
   "source": [
    "variable = 'hello'\n",
    "type(variable)"
   ]
  },
  {
   "cell_type": "code",
   "execution_count": 279,
   "metadata": {},
   "outputs": [
    {
     "data": {
      "text/plain": [
       "str"
      ]
     },
     "execution_count": 279,
     "metadata": {},
     "output_type": "execute_result"
    }
   ],
   "source": [
    "ftr1_string = df['ftr1'].astype(str)\n",
    "\n",
    "#other types are: int, float, bool"
   ]
  },
  {
   "attachments": {},
   "cell_type": "markdown",
   "metadata": {},
   "source": [
    "### Binning using cut(): <a class='anchor' id='binning_cut'></a>"
   ]
  },
  {
   "cell_type": "code",
   "execution_count": null,
   "metadata": {},
   "outputs": [],
   "source": [
    "df_changed = df.copy()\n",
    "bins = [0, 0.25,0.5,0.75,1]\n",
    "df_changed['bins'] = pd.cut(df_changed['ftr1'], bins)\n",
    "df_changed"
   ]
  },
  {
   "attachments": {},
   "cell_type": "markdown",
   "metadata": {},
   "source": [
    "### Split a DataSet: <a class='anchor' id='split_dataset'></a>"
   ]
  },
  {
   "cell_type": "code",
   "execution_count": null,
   "metadata": {},
   "outputs": [],
   "source": [
    "def split_data(df, ratio=0.8):\n",
    "    mask = np.random.rand(len(df)) < ratio\n",
    "    #first is the training, second the test set\n",
    "    return [df[mask].reset_index(drop=True), df[~mask].reset_index(drop=True)]"
   ]
  },
  {
   "attachments": {},
   "cell_type": "markdown",
   "metadata": {},
   "source": [
    "## Statistics: <a class='anchor' id='statistics'></a>"
   ]
  },
  {
   "attachments": {},
   "cell_type": "markdown",
   "metadata": {},
   "source": [
    "### Check if data comes from a given distribution (ktest): <a class='anchor' id='k_test'></a>"
   ]
  },
  {
   "cell_type": "code",
   "execution_count": 193,
   "metadata": {},
   "outputs": [],
   "source": [
    "from statsmodels.stats import diagnostic"
   ]
  },
  {
   "cell_type": "code",
   "execution_count": 195,
   "metadata": {},
   "outputs": [],
   "source": [
    "d = diagnostic.kstest_normal(df['ftr1'].values, dist='norm')\n",
    "ksstat = d[0]\n",
    "p_value = d[1] #p-value for the Null-hypothesis of the data being normally distributed. Low p-value -> not normally distributed\n",
    "\n",
    "#for exponential distribution replace 'norm' by 'exp', "
   ]
  },
  {
   "attachments": {},
   "cell_type": "markdown",
   "metadata": {},
   "source": [
    "### T-test: <a class='anchor' id='t_test'></a>\n",
    "To test whether the means of two distinct populations differ."
   ]
  },
  {
   "cell_type": "code",
   "execution_count": 206,
   "metadata": {},
   "outputs": [],
   "source": [
    "from scipy.stats import ttest_ind"
   ]
  },
  {
   "cell_type": "code",
   "execution_count": 207,
   "metadata": {},
   "outputs": [
    {
     "data": {
      "text/plain": [
       "Ttest_indResult(statistic=0.0, pvalue=1.0)"
      ]
     },
     "execution_count": 207,
     "metadata": {},
     "output_type": "execute_result"
    }
   ],
   "source": [
    "#Independent t-test (Two groups of independent samples or scores)\n",
    "t = ttest_ind(df['ftr1'], df['ftr2'])\n",
    "t_value = t[0]\n",
    "p_value = t[1]"
   ]
  },
  {
   "attachments": {},
   "cell_type": "markdown",
   "metadata": {},
   "source": [
    "### Binomial test <a class='anchor' id='binom_test'></a>\n",
    "Perform a test that the probability of success is p."
   ]
  },
  {
   "cell_type": "code",
   "execution_count": 216,
   "metadata": {},
   "outputs": [],
   "source": [
    "from statsmodels.stats.proportion import binom_test"
   ]
  },
  {
   "cell_type": "code",
   "execution_count": 218,
   "metadata": {},
   "outputs": [
    {
     "data": {
      "text/plain": [
       "1.0"
      ]
     },
     "execution_count": 218,
     "metadata": {},
     "output_type": "execute_result"
    }
   ],
   "source": [
    "nbrS = 5 #number of success\n",
    "nbrT = 10 #number of trials\n",
    "pS = 0.5 #the probability for a success under the null hypothesis\n",
    "#if p-value is low, the probability is wrong\n",
    "p_value = binom_test(nbrS,nbrT,pS)"
   ]
  },
  {
   "attachments": {},
   "cell_type": "markdown",
   "metadata": {},
   "source": [
    "### Pearson correlation: <a class='anchor' id='pearson_corr'></a>"
   ]
  },
  {
   "cell_type": "code",
   "execution_count": 197,
   "metadata": {},
   "outputs": [],
   "source": [
    "from scipy.stats import pearsonr"
   ]
  },
  {
   "cell_type": "code",
   "execution_count": 199,
   "metadata": {},
   "outputs": [
    {
     "data": {
      "text/plain": [
       "(1.0, 0.0)"
      ]
     },
     "execution_count": 199,
     "metadata": {},
     "output_type": "execute_result"
    }
   ],
   "source": [
    "pear = pearsonr(df['ftr1'], df['ftr3'])\n",
    "correlation = pear[0]\n",
    "p_value = pear[1]"
   ]
  },
  {
   "attachments": {},
   "cell_type": "markdown",
   "metadata": {},
   "source": [
    "### Spearman correlation <a class='anchor' id='spearson_corr'></a>"
   ]
  },
  {
   "cell_type": "code",
   "execution_count": 200,
   "metadata": {},
   "outputs": [],
   "source": [
    "from scipy.stats import spearmanr"
   ]
  },
  {
   "cell_type": "code",
   "execution_count": 203,
   "metadata": {},
   "outputs": [],
   "source": [
    "spear = spearmanr(df['ftr1'], df['ftr3'])\n",
    "correlation = spear[0]\n",
    "p_value = spear[1]"
   ]
  },
  {
   "attachments": {},
   "cell_type": "markdown",
   "metadata": {},
   "source": [
    "### Plot Correlation using sns <a class='anchor' id='sns_corr_plot'></a>"
   ]
  },
  {
   "cell_type": "code",
   "execution_count": 215,
   "metadata": {},
   "outputs": [
    {
     "data": {
      "image/png": "[encoded data removed]",
      "text/plain": [
       "<Figure size 568.486x500 with 1 Axes>"
      ]
     },
     "metadata": {},
     "output_type": "display_data"
    },
    {
     "data": {
      "image/png": "[encoded data removed]",
      "text/plain": [
       "<Figure size 568.486x500 with 1 Axes>"
      ]
     },
     "metadata": {},
     "output_type": "display_data"
    }
   ],
   "source": [
    "df_changed = df.copy()\n",
    "df_changed['new_cat'] = df_changed['ftr1'].apply(lambda x: 1 if x < 0.5 else 0)\n",
    "sns.lmplot(x='ftr1',y='ftr2', hue='new_cat',data=df_changed)\n",
    "#hue groups the datapoints by their categories in 'new_cat'\n",
    "plt.show()"
   ]
  },
  {
   "attachments": {},
   "cell_type": "markdown",
   "metadata": {},
   "source": [
    "## Regression: <a class='anchor' id='regression_'></a>"
   ]
  },
  {
   "cell_type": "code",
   "execution_count": 241,
   "metadata": {},
   "outputs": [],
   "source": [
    "df_regression = pd.DataFrame({'ftr1': [1, 2, 3, 4, 5], 'ftr2': [1, 4, 9, 16, 25], 'ftr3': ['a','b','b','a','b']})"
   ]
  },
  {
   "attachments": {},
   "cell_type": "markdown",
   "metadata": {},
   "source": [
    "Scaling the features: <br> <a class='anchor' id='scaling_reg'></a>\n",
    "To avoid to weight features with big values higher. <br>\n",
    "Standardization is one form of scaling. <br>\n",
    "Min-max scaling is another one."
   ]
  },
  {
   "cell_type": "code",
   "execution_count": 242,
   "metadata": {},
   "outputs": [],
   "source": [
    "#standardization\n",
    "ftr1 = df_regression['ftr1']\n",
    "ftr2 = df_regression['ftr2']\n",
    "\n",
    "df_regression['ftr1'] = (ftr1 - ftr1.mean())/ftr1.std()\n",
    "df_regression['ftr2'] = (ftr2 - ftr2.mean())/ftr2.std()\n",
    "\n",
    "#Min max scaling\n",
    "min1 = ftr1.min()\n",
    "max1 = ftr1.max()\n",
    "min2 = ftr2.min()\n",
    "max2 = ftr2.max()\n",
    "\n",
    "#df_regression['ftr1'] = (ftr1 - min1)/(max1 - min1)\n",
    "#df_regression['ftr2'] = (ftr2 - min2)/(max2 - min2)\n"
   ]
  },
  {
   "attachments": {},
   "cell_type": "markdown",
   "metadata": {},
   "source": [
    "### Ordinary least squares: <a class='anchor' id='ordinary_least_square'></a>"
   ]
  },
  {
   "cell_type": "code",
   "execution_count": 239,
   "metadata": {},
   "outputs": [],
   "source": [
    "import statsmodels.formula.api as smf"
   ]
  },
  {
   "cell_type": "code",
   "execution_count": 245,
   "metadata": {},
   "outputs": [
    {
     "name": "stdout",
     "output_type": "stream",
     "text": [
      "                            OLS Regression Results                            \n",
      "==============================================================================\n",
      "Dep. Variable:                   ftr1   R-squared:                       1.000\n",
      "Model:                            OLS   Adj. R-squared:                  0.999\n",
      "Method:                 Least Squares   F-statistic:                     2470.\n",
      "Date:                Thu, 29 Dec 2022   Prob (F-statistic):             0.0148\n",
      "Time:                        14:00:56   Log-Likelihood:                 15.740\n",
      "No. Observations:                   5   AIC:                            -23.48\n",
      "Df Residuals:                       1   BIC:                            -25.04\n",
      "Df Model:                           3                                         \n",
      "Covariance Type:            nonrobust                                         \n",
      "================================================================================\n",
      "                   coef    std err          t      P>|t|      [0.025      0.975]\n",
      "--------------------------------------------------------------------------------\n",
      "Intercept        0.1708      0.022      7.613      0.083      -0.114       0.456\n",
      "C(ftr3)[T.b]     0.0609      0.022      2.763      0.221      -0.219       0.341\n",
      "ftr2             1.0483      0.013     80.551      0.008       0.883       1.214\n",
      "ftr1:ftr2       -0.2642      0.017    -15.837      0.040      -0.476      -0.052\n",
      "==============================================================================\n",
      "Omnibus:                          nan   Durbin-Watson:                   3.492\n",
      "Prob(Omnibus):                    nan   Jarque-Bera (JB):                0.247\n",
      "Skew:                           0.089   Prob(JB):                        0.884\n",
      "Kurtosis:                       1.926   Cond. No.                         4.37\n",
      "==============================================================================\n",
      "\n",
      "Notes:\n",
      "[1] Standard Errors assume that the covariance matrix of the errors is correctly specified.\n"
     ]
    },
    {
     "name": "stderr",
     "output_type": "stream",
     "text": [
      "c:\\Users\\flori\\anaconda3\\envs\\ada\\lib\\site-packages\\statsmodels\\stats\\stattools.py:74: ValueWarning: omni_normtest is not valid with less than 8 observations; 5 samples were given.\n",
      "  warn(\"omni_normtest is not valid with less than 8 observations; %i \"\n"
     ]
    }
   ],
   "source": [
    "#ftr3 is categorical, ftr1/2 are continuous\n",
    "#binary is also categorical\n",
    "#interaction is written ftr1:ftr2\n",
    "mod = smf.ols(formula='ftr1~ ftr2 + ftr1:ftr2 + C(ftr3)', data=df_regression)\n",
    "np.random.seed(2)\n",
    "res = mod.fit()\n",
    "print(res.summary())"
   ]
  },
  {
   "attachments": {},
   "cell_type": "markdown",
   "metadata": {},
   "source": [
    "R-square: how much variance can be explained by the model."
   ]
  },
  {
   "attachments": {},
   "cell_type": "markdown",
   "metadata": {},
   "source": [
    "### Logistic Regression: <a class='anchor' id='log_reg'></a> <br>\n",
    "predicts a binary and not continuous outcome "
   ]
  },
  {
   "cell_type": "code",
   "execution_count": null,
   "metadata": {},
   "outputs": [],
   "source": [
    "mod = smf.logit(formula='ftr1~ ftr2 + ftr1:ftr2 + C(ftr3)', data=df_regression)\n",
    "np.random.seed(2)\n",
    "res = mod.fit()\n",
    "print(res.summary())"
   ]
  },
  {
   "attachments": {},
   "cell_type": "markdown",
   "metadata": {},
   "source": [
    "### res operations: <a class='anchor' id='res_op'></a>"
   ]
  },
  {
   "cell_type": "code",
   "execution_count": 255,
   "metadata": {},
   "outputs": [
    {
     "data": {
      "text/plain": [
       "array([-1.2589369 , -0.64810216,  0.01493541,  0.62648137,  1.26562227])"
      ]
     },
     "execution_count": 255,
     "metadata": {},
     "output_type": "execute_result"
    }
   ],
   "source": [
    "#get the INDEX of the variables in the model:\n",
    "res.params.index #'Intercept', 'C(ftr3)', 'ftr2', 'ftr1:ftr2'\n",
    "\n",
    "#Get the COEFFICIENTS:\n",
    "res.params.values\n",
    "\n",
    "#Get the P-VALUES\n",
    "res.pvalues\n",
    "\n",
    "#Get the STANDARD ERRORS\n",
    "res.bse.values\n",
    "\n",
    "#Get CONFIDENCE INTERVALS\n",
    "res.conf_int()\n",
    "\n",
    "#Get PREDICTED VALUES from the model, using the training datapoints\n",
    "res.predict()"
   ]
  },
  {
   "attachments": {},
   "cell_type": "markdown",
   "metadata": {},
   "source": [
    "## Write or read files: <a class='anchor' id='write_read_file'></a>"
   ]
  },
  {
   "cell_type": "code",
   "execution_count": null,
   "metadata": {},
   "outputs": [],
   "source": [
    "#read csv\n",
    "'''data = pd.read_csv('PATH/file_name.csv')'''\n",
    "'''data = pd.read_csv('PATH/file_name.csv', skiprows=5, nrows=7, na_values=['N/A', 'n/a'])'''\n",
    "'''     skips the first five rows, alternatively use skiprows=[3,2,5] -> skips row 3,2 and 5 '''\n",
    "'''     nrows=7 -> import only the first 7 rows'''\n",
    "'''     na_values will treat all 'N/A' and 'n/a' entries as NaN as well'''\n",
    "#write a csv\n",
    "'''df.to_csv('name.csv')'''\n",
    "\n",
    "#read an excel\n",
    "'''data = pd.read_excel('PATH/name.xlsx')'''\n",
    "\n",
    "import pickle\n",
    "#write a pickle\n",
    "'''with open('df.pkl', 'wb') as f:\n",
    "    pickle.dump(df, f)'''\n",
    "\n",
    "#load a pickle\n",
    "'''with open('PATH/data.pkl', 'rb') as f:\n",
    "    data = pickle.load(f)'''"
   ]
  },
  {
   "attachments": {},
   "cell_type": "markdown",
   "metadata": {},
   "source": [
    "# Series: <a class='anchor' id='Series'></a>"
   ]
  },
  {
   "attachments": {},
   "cell_type": "markdown",
   "metadata": {},
   "source": [
    "## Initialize: <a class='anchor' id='initialize_ser'></a>"
   ]
  },
  {
   "cell_type": "code",
   "execution_count": 172,
   "metadata": {},
   "outputs": [],
   "source": [
    "ser = pd.Series([1, 1,3,3,3, 7, 3, 5, 7, 9])"
   ]
  },
  {
   "attachments": {},
   "cell_type": "markdown",
   "metadata": {},
   "source": [
    "## Functions: <a class='anchor' id='func_series'></a>"
   ]
  },
  {
   "cell_type": "code",
   "execution_count": 122,
   "metadata": {},
   "outputs": [],
   "source": [
    "#hide\n",
    "data = np.random.random(5)\n",
    "series = pd.Series(data)\n",
    "series[0] = np.nan"
   ]
  },
  {
   "cell_type": "code",
   "execution_count": 184,
   "metadata": {},
   "outputs": [],
   "source": [
    "#Detect NaN values (not 0)\n",
    "series.notnull()\n",
    "series.isnull()\n",
    "\n",
    "#Value counts (which value appears how often): (sort_index to have highest count first)\n",
    "counts = ser.value_counts().reset_index().sort_index()\n",
    "counts.iloc[0]\n",
    "\n",
    "a=1"
   ]
  },
  {
   "attachments": {},
   "cell_type": "markdown",
   "metadata": {},
   "source": [
    "# Numpy <a class='anchor' id='numpy'></a>"
   ]
  },
  {
   "attachments": {},
   "cell_type": "markdown",
   "metadata": {},
   "source": [
    "## random numbers: <a class='anchor' id='random_numpy'></a>"
   ]
  },
  {
   "cell_type": "code",
   "execution_count": 124,
   "metadata": {},
   "outputs": [],
   "source": [
    "#Generate 10 random variable between 0 and 1:\n",
    "data = np.random.random(10)\n",
    "a=1"
   ]
  },
  {
   "attachments": {},
   "cell_type": "markdown",
   "metadata": {},
   "source": [
    "## Introduce a NaN number: <a class='anchor' id='nan_numpy'></a>"
   ]
  },
  {
   "cell_type": "code",
   "execution_count": 125,
   "metadata": {},
   "outputs": [],
   "source": [
    "nan_ = np.nan"
   ]
  },
  {
   "attachments": {},
   "cell_type": "markdown",
   "metadata": {},
   "source": [
    "# List <a class='anchor' id='list'></a>"
   ]
  },
  {
   "attachments": {},
   "cell_type": "markdown",
   "metadata": {},
   "source": [
    "## Iterate over several lists: <a class='anchor' id='iterate_zip'></a>"
   ]
  },
  {
   "cell_type": "code",
   "execution_count": 293,
   "metadata": {},
   "outputs": [
    {
     "name": "stdout",
     "output_type": "stream",
     "text": [
      "a\n",
      "d\n",
      "b\n",
      "e\n",
      "c\n",
      "f\n"
     ]
    }
   ],
   "source": [
    "list_a = ['a','b','c']\n",
    "list_b = ['d','e','f','g']\n",
    "for a, b in zip(list_a, list_b):\n",
    "    print(a)\n",
    "    print(b)\n",
    "\n",
    "#you only iterate n times, where n is min(len(list_a),len(list_b))"
   ]
  },
  {
   "attachments": {},
   "cell_type": "markdown",
   "metadata": {},
   "source": [
    "# String: <a class='anchor' id='string'></a>"
   ]
  },
  {
   "cell_type": "code",
   "execution_count": 275,
   "metadata": {},
   "outputs": [],
   "source": [
    "word= 'aRandomWord'"
   ]
  },
  {
   "attachments": {},
   "cell_type": "markdown",
   "metadata": {},
   "source": [
    "## Functions: <a class='anchor' id='string_func'></a>"
   ]
  },
  {
   "attachments": {},
   "cell_type": "markdown",
   "metadata": {},
   "source": [
    ".endswith() <a class='anchor' id='endswith'></a>"
   ]
  },
  {
   "cell_type": "code",
   "execution_count": 276,
   "metadata": {},
   "outputs": [
    {
     "data": {
      "text/plain": [
       "True"
      ]
     },
     "execution_count": 276,
     "metadata": {},
     "output_type": "execute_result"
    }
   ],
   "source": [
    "word.endswith('Word')"
   ]
  },
  {
   "attachments": {},
   "cell_type": "markdown",
   "metadata": {},
   "source": [
    "# General <a class='anchor' id='general_stuff'></a>"
   ]
  },
  {
   "attachments": {},
   "cell_type": "markdown",
   "metadata": {},
   "source": [
    "### Numbers after the comma <a class='anchor' id='decimal_after_comma'></a>"
   ]
  },
  {
   "cell_type": "code",
   "execution_count": 282,
   "metadata": {},
   "outputs": [
    {
     "name": "stdout",
     "output_type": "stream",
     "text": [
      "the number 3.04 will be shown with two decimals\n"
     ]
    }
   ],
   "source": [
    "print('the number {:.3} will be shown with two decimals'.format(3.0394821))"
   ]
  }
 ],
 "metadata": {
  "kernelspec": {
   "display_name": "ada",
   "language": "python",
   "name": "python3"
  },
  "language_info": {
   "codemirror_mode": {
    "name": "ipython",
    "version": 3
   },
   "file_extension": ".py",
   "mimetype": "text/x-python",
   "name": "python",
   "nbconvert_exporter": "python",
   "pygments_lexer": "ipython3",
   "version": "3.9.13 (main, Aug 25 2022, 23:51:50) [MSC v.1916 64 bit (AMD64)]"
  },
  "orig_nbformat": 4,
  "vscode": {
   "interpreter": {
    "hash": "faf7d6ed75ed7c5983c8b8c663c43d66c206a8e5fc8fdda408f4c308fc80edef"
   }
  }
 },
 "nbformat": 4,
 "nbformat_minor": 2
}

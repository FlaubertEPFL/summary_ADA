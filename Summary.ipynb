{
 "cells": [
  {
   "cell_type": "code",
   "execution_count": 169,
   "metadata": {},
   "outputs": [],
   "source": [
    "import numpy as np\n",
    "import pandas as pd\n",
    "import matplotlib.pyplot as plt\n",
    "import seaborn as sns\n",
    "%matplotlib inline"
   ]
  },
  {
   "attachments": {},
   "cell_type": "markdown",
   "metadata": {},
   "source": [
    "## Table of Contents\n",
    "- [Display Options](#Display_Options)\n",
    "- [Data Frames](#DataFrame)\n",
    "    - [Initialize](#initalize_df)\n",
    "    - [Columns](#columns)\n",
    "        - [Add Column (Standard, Apply(), Condition)](#add_col)\n",
    "        - [Change order](#change_col_order)\n",
    "        - [Remove Column](#remove_col)\n",
    "        - [Sum Columns](#sum_col)\n",
    "        - [Get Column Names](#col_names)\n",
    "        - [Rename Columns](#rename_col)\n",
    "    - [Rows](#rows)\n",
    "        - [loc](#loc)\n",
    "        - [change a single value](#change_single_value)\n",
    "        - [iloc](#iloc)\n",
    "        - [Show Rows](#show_row)\n",
    "        - [remove row](#remove_row)\n",
    "        - [sum rows](#sum_row)\n",
    "        - [Iterate over rows](#iter_rows)\n",
    "    - [Functions](#func_dataframe)\n",
    "        - [Shape](#shape_df)\n",
    "        - [DTypes](#Dtype)\n",
    "        - [Values](#values_df)\n",
    "        - [Index](#index_df)\n",
    "        - [Show Rows](#show_row)\n",
    "        - [Copy](#copy_df)\n",
    "        - [Reset Index](#reset_index)\n",
    "        - [Isin ()](#isin_)\n",
    "        - [Operations (Addition, Multiplication, sum row/column)](#operations_df)\n",
    "        - [Look at data (head, sample, columns, describe, shape, mean, index, index.is_unique, value count (which value is represented how often, unique values of column))](#look_data)\n",
    "        - [Clean the data (sort, fillna, dropna, drop_duplicates)](#clean_data)\n",
    "        - [Concatenate](#concatenate_)\n",
    "        - [Merge](#merge)\n",
    "        - [Dummy Variables](#dummies)\n",
    "    - [Group by](#group_by)\n",
    "        - [Basic](#basic_groupby)\n",
    "        - [Access groups](#access_groups_groupby)\n",
    "        - [Functions (count, sum)](#func_groupby)\n",
    "        - [Apply](#apply_groupby)\n",
    "        - [Aggregate](#aggregate_group)\n",
    "        - [Unstack](#unstack_groupby)\n",
    "    - [Select](#select_df)\n",
    "        - [Standard](#standard_select)\n",
    "        - [Query](#query_select)\n",
    "    - [Datetime](#datetime_)\n",
    "    - [Gimmicks](#df_tricks)\n",
    "        - [Pivot()](#pivot_df)\n",
    "        - [Crosstab()](#crosstab)\n",
    "        - [Transform category to int](#cat_to_int_df)\n",
    "        - [Transform dtypes](#transform_dtype)\n",
    "        - [Binning using cut](#binning_cut)\n",
    "        - [Split Dataset](#split_dataset)\n",
    "        - [Bootstrap](#bootstrap)\n",
    "    - [Statistics](#statistics)\n",
    "        - [Check for normal or exponential distribution (k-test)](#k_test)\n",
    "        - [T-test](#t_test)\n",
    "        - [Binomial Test (test whether the probability for success is p)](#binom_test)\n",
    "        - [Pearson Correlation](#pearson_corr)\n",
    "        - [Spearman Correlation](#spearson_corr)\n",
    "        - [Plot Correlation (SNS)](#sns_corr_plot)\n",
    "        - [Generate samples](#make_samples)\n",
    "    - [Write and Read files](#write_read_file)\n",
    "- [Series](#Series) \n",
    "    - [Initialization](#initialize_ser)\n",
    "    - [Functions (detect NaN - isnull, value_counts)](#func_series)\n",
    "- [Numpy](#numpy) \n",
    "    - [Random Numbers](#random_numpy)\n",
    "    - [Nan Numbers](#nan_numpy)\n",
    "- [List](#list)\n",
    "    - [Iterate over several lists](#iterate_zip)\n",
    "- [String](#string)\n",
    "    - [Functions](#string_func)\n",
    "        - [.endswith()](#endswith)\n",
    "        - [lower/upper case](#upp_low_case)\n",
    "        - [remove/replace characters](#remove_char)\n",
    "- [General](#general_stuff)\n",
    "    - [Decimals after comma](#decimal_after_comma)\n",
    "    - [Linspace / Arange](#linspace)\n",
    "    - [Calculations](#general_calcs)\n",
    "        - [Mean Squared Error](#mserror)\n",
    "    - [Warnings](#warnings)"
   ]
  },
  {
   "attachments": {},
   "cell_type": "markdown",
   "metadata": {},
   "source": [
    "Display Options: <a class=\"anchor\" id=\"Display_Options\"></a>"
   ]
  },
  {
   "cell_type": "code",
   "execution_count": 170,
   "metadata": {},
   "outputs": [],
   "source": [
    "pd.set_option('display.max_rows', None)\n",
    "pd.set_option('display.max_columns', None)"
   ]
  },
  {
   "attachments": {},
   "cell_type": "markdown",
   "metadata": {},
   "source": [
    "# DataFrames: <a class=\"anchor\" id=\"DataFrame\"></a>"
   ]
  },
  {
   "cell_type": "code",
   "execution_count": 171,
   "metadata": {},
   "outputs": [],
   "source": [
    "#Hide\n",
    "#generate 25 random values between 0 and 1\n",
    "ftr1 = np.random.random(25)\n",
    "ftr2 = np.random.random(25)\n",
    "ftr3 = np.random.random(25)"
   ]
  },
  {
   "cell_type": "code",
   "execution_count": 172,
   "metadata": {},
   "outputs": [],
   "source": [
    "list_ = ['la', 'le', 'li', 'lo', 'lu']"
   ]
  },
  {
   "attachments": {},
   "cell_type": "markdown",
   "metadata": {},
   "source": [
    "## Initialize <a class=\"anchor\" id=\"initalize_df\"></a>"
   ]
  },
  {
   "cell_type": "code",
   "execution_count": 173,
   "metadata": {},
   "outputs": [],
   "source": [
    "df = pd.DataFrame([], columns=['ftr1', 'ftr2', 'ftr3'])\n",
    "\n",
    "frame = {'ftr1': pd.Series(ftr1), 'ftr2': pd.Series(ftr2), 'ftr3': pd.Series(ftr3)}\n",
    "\n",
    "df = pd.DataFrame(frame)"
   ]
  },
  {
   "attachments": {},
   "cell_type": "markdown",
   "metadata": {},
   "source": [
    "Transform a list to a DataFrame:"
   ]
  },
  {
   "cell_type": "code",
   "execution_count": 174,
   "metadata": {},
   "outputs": [
    {
     "data": {
      "text/plain": [
       "'skip first element in enumerate:\\n    for position, value in enumerate(list_[1:]):'"
      ]
     },
     "execution_count": 174,
     "metadata": {},
     "output_type": "execute_result"
    }
   ],
   "source": [
    "tmp = []\n",
    "for position, value in enumerate(list_):\n",
    "    tmp.append({'position':position, 'value': value})\n",
    "\n",
    "tmp_df = pd.DataFrame(tmp)\n",
    "\n",
    "'''skip first element in enumerate:\n",
    "    for position, value in enumerate(list_[1:]):'''"
   ]
  },
  {
   "attachments": {},
   "cell_type": "markdown",
   "metadata": {},
   "source": [
    "## Columns: <a class='anchor' id='columns'></a>"
   ]
  },
  {
   "attachments": {},
   "cell_type": "markdown",
   "metadata": {},
   "source": [
    "Add Column: <a class='anchor' id='add_col'></a>"
   ]
  },
  {
   "cell_type": "code",
   "execution_count": 175,
   "metadata": {},
   "outputs": [],
   "source": [
    "'''Standard'''\n",
    "df_changed = df.copy()\n",
    "df_changed['new_ftr'] = df['ftr2']\n",
    "#df_changed\n",
    "\n",
    "'''apply()'''\n",
    "df_changed['new_ftr2'] = df['ftr1'].apply(lambda x: 1 if x < 0.5 else 0)\n",
    "#df_changed\n",
    "\n",
    "'''Condition'''\n",
    "#Separate Conditions with commas if there are severals\n",
    "condition = [\n",
    "    (df['ftr1'] < 0.7) & (df['ftr2'] > 0.3)\n",
    "]\n",
    "value = [1]\n",
    "df_changed['new_ftr3'] = np.select(condition, value, default=0)\n",
    "#df_changed"
   ]
  },
  {
   "cell_type": "code",
   "execution_count": 176,
   "metadata": {},
   "outputs": [],
   "source": [
    "df_changed = df.copy()\n",
    "\n",
    "def add_col_ftr4(row):\n",
    "    return float(row['ftr1']*row['ftr2'])\n",
    "#in some cases the float is crucial\n",
    "\n",
    "df_changed['ftr4'] = df_changed.apply(add_col_ftr4, axis=1)\n",
    "\n",
    "#df_changed.head(1)"
   ]
  },
  {
   "attachments": {},
   "cell_type": "markdown",
   "metadata": {},
   "source": [
    "Change Order: <a class='anchor' id='change_col_order'></a>"
   ]
  },
  {
   "cell_type": "code",
   "execution_count": 177,
   "metadata": {},
   "outputs": [],
   "source": [
    "df_changed = df[['ftr2', 'ftr3', 'ftr1']]\n",
    "#df_changed.head()"
   ]
  },
  {
   "attachments": {},
   "cell_type": "markdown",
   "metadata": {},
   "source": [
    "Remove Column: <a class='anchor' id='remove_col'></a>"
   ]
  },
  {
   "cell_type": "code",
   "execution_count": 178,
   "metadata": {},
   "outputs": [],
   "source": [
    "df_changed = df.copy()\n",
    "df_changed = df_changed.drop('ftr1', axis=1)\n",
    "#df_changed.head()"
   ]
  },
  {
   "attachments": {},
   "cell_type": "markdown",
   "metadata": {},
   "source": [
    "Sum up Columns: <a class='anchor' id='sum_col'></a>"
   ]
  },
  {
   "cell_type": "code",
   "execution_count": 179,
   "metadata": {},
   "outputs": [],
   "source": [
    "sum_column = df.sum(axis=0)"
   ]
  },
  {
   "attachments": {},
   "cell_type": "markdown",
   "metadata": {},
   "source": [
    "Get Column Names: <a class='anchor' id='col_names'></a>"
   ]
  },
  {
   "cell_type": "code",
   "execution_count": 180,
   "metadata": {},
   "outputs": [],
   "source": [
    "df.columns\n",
    "a=1"
   ]
  },
  {
   "attachments": {},
   "cell_type": "markdown",
   "metadata": {},
   "source": [
    "Rename Columns: <a class='anchor' id='rename_col'></a>"
   ]
  },
  {
   "cell_type": "code",
   "execution_count": 181,
   "metadata": {},
   "outputs": [],
   "source": [
    "df_changed=df.copy()\n",
    "df_changed = df_changed.rename(columns={'ftr1': 'new_name'})\n",
    "#df_changed.head(1)"
   ]
  },
  {
   "attachments": {},
   "cell_type": "markdown",
   "metadata": {},
   "source": [
    "## Rows: <a class='anchor' id='rows'></a>"
   ]
  },
  {
   "attachments": {},
   "cell_type": "markdown",
   "metadata": {},
   "source": [
    "loc <a class='anchor' id='loc'></a> <br>\n",
    "loc uses the index, so either a number or a label."
   ]
  },
  {
   "cell_type": "code",
   "execution_count": 182,
   "metadata": {},
   "outputs": [],
   "source": [
    "df.loc[0]\n",
    "df.loc[df['ftr1']>0.5]\n",
    "df.loc[1:4]\n",
    "a=1"
   ]
  },
  {
   "attachments": {},
   "cell_type": "markdown",
   "metadata": {},
   "source": [
    "Change single Value: <a class='anchor' id='change_single_value'></a>"
   ]
  },
  {
   "cell_type": "code",
   "execution_count": 183,
   "metadata": {},
   "outputs": [],
   "source": [
    "df_changed = df.copy()\n",
    "idx = 2\n",
    "df_changed.loc[idx, 'ftr1'] = 10\n",
    "\n",
    "#change multiple values\n",
    "df_changed = df.copy()\n",
    "df_changed.loc[df_changed['ftr1'] > 0.5, 'ftr1'] = 2"
   ]
  },
  {
   "attachments": {},
   "cell_type": "markdown",
   "metadata": {},
   "source": [
    "iloc <a class='anchor' id='iloc'></a> <br>\n",
    "like loc but uses position instead of index/label:"
   ]
  },
  {
   "cell_type": "code",
   "execution_count": 184,
   "metadata": {},
   "outputs": [],
   "source": [
    "df.iloc[idx]\n",
    "#return elements 1 to 4\n",
    "df.iloc[1:4]\n",
    "a=1"
   ]
  },
  {
   "attachments": {},
   "cell_type": "markdown",
   "metadata": {},
   "source": [
    "### remove a row <a class='anchor' id='remove_row'></a>"
   ]
  },
  {
   "cell_type": "code",
   "execution_count": 185,
   "metadata": {},
   "outputs": [],
   "source": [
    "#idx = 2\n",
    "df_changed = df.copy()\n",
    "df_changed = df_changed.drop(idx)\n",
    "#df_changed.head()"
   ]
  },
  {
   "attachments": {},
   "cell_type": "markdown",
   "metadata": {},
   "source": [
    "### sum rows: <a class='anchor' id='sum_row'></a>"
   ]
  },
  {
   "cell_type": "code",
   "execution_count": 186,
   "metadata": {},
   "outputs": [],
   "source": [
    "sum_row = df[['ftr1','ftr2']].sum(axis=1) #sums up every row of ftr1 and ftr2"
   ]
  },
  {
   "attachments": {},
   "cell_type": "markdown",
   "metadata": {},
   "source": [
    "### iterate over rows: <a class='anchor' id='iter_rows'></a>"
   ]
  },
  {
   "cell_type": "code",
   "execution_count": 187,
   "metadata": {},
   "outputs": [],
   "source": [
    "for df_idx, df_row in df.iterrows():\n",
    "    a=1"
   ]
  },
  {
   "attachments": {},
   "cell_type": "markdown",
   "metadata": {},
   "source": [
    "## Functions <a class='anchor' id='func_dataframe'></a>"
   ]
  },
  {
   "attachments": {},
   "cell_type": "markdown",
   "metadata": {},
   "source": [
    "### Shape: <a class='anchor' id='shape_df'></a>"
   ]
  },
  {
   "cell_type": "code",
   "execution_count": 188,
   "metadata": {},
   "outputs": [],
   "source": [
    "df.shape\n",
    "a=1"
   ]
  },
  {
   "attachments": {},
   "cell_type": "markdown",
   "metadata": {},
   "source": [
    "### Types: <a class='anchor' id='Dtype'></a>"
   ]
  },
  {
   "cell_type": "code",
   "execution_count": 189,
   "metadata": {},
   "outputs": [],
   "source": [
    "#Returns the different types of the columns\n",
    "df.dtypes\n",
    "a=1"
   ]
  },
  {
   "attachments": {},
   "cell_type": "markdown",
   "metadata": {},
   "source": [
    "### Values\n",
    "Shows all values <a class='anchor' id='values_df'></a>"
   ]
  },
  {
   "cell_type": "code",
   "execution_count": 190,
   "metadata": {},
   "outputs": [],
   "source": [
    "df.values\n",
    "a=1"
   ]
  },
  {
   "attachments": {},
   "cell_type": "markdown",
   "metadata": {},
   "source": [
    "### Index <a class='anchor' id='index_df'></a>"
   ]
  },
  {
   "cell_type": "code",
   "execution_count": 191,
   "metadata": {},
   "outputs": [
    {
     "data": {
      "text/plain": [
       "RangeIndex(start=0, stop=25, step=1)"
      ]
     },
     "execution_count": 191,
     "metadata": {},
     "output_type": "execute_result"
    }
   ],
   "source": [
    "#return indexes\n",
    "df.index"
   ]
  },
  {
   "attachments": {},
   "cell_type": "markdown",
   "metadata": {},
   "source": [
    "### Show rows: <a class='anchor' id='show_row'></a>"
   ]
  },
  {
   "cell_type": "code",
   "execution_count": 192,
   "metadata": {},
   "outputs": [],
   "source": [
    "n=3\n",
    "#Show first n rows:\n",
    "df[:n]\n",
    "a=1"
   ]
  },
  {
   "attachments": {},
   "cell_type": "markdown",
   "metadata": {},
   "source": [
    "### Copy:\n",
    "<a class='anchor' id='copy_df'></a>"
   ]
  },
  {
   "cell_type": "code",
   "execution_count": 193,
   "metadata": {},
   "outputs": [],
   "source": [
    "df_changed = df.copy()"
   ]
  },
  {
   "attachments": {},
   "cell_type": "markdown",
   "metadata": {},
   "source": [
    "### Reset index <a class='anchor' id='reset_index'></a>"
   ]
  },
  {
   "cell_type": "code",
   "execution_count": 194,
   "metadata": {},
   "outputs": [],
   "source": [
    "df_changed = df[df['ftr1']<0.2]\n",
    "#adding a new index\n",
    "df_changed.reset_index()\n",
    "#adding a new index plus removing the old one\n",
    "df_changed.reset_index(drop=True)\n",
    "a=1"
   ]
  },
  {
   "attachments": {},
   "cell_type": "markdown",
   "metadata": {},
   "source": [
    "### Isin() <a class='anchor' id='isin_'></a>"
   ]
  },
  {
   "cell_type": "code",
   "execution_count": 195,
   "metadata": {},
   "outputs": [],
   "source": [
    "df_special = pd.DataFrame([['Alice', 21], ['Bob', 22], ['Charlie', 23]],\n",
    "                  columns=['Name', 'Age'])\n",
    "\n",
    "df_special['Name'].isin(['Flo','Lars'])\n",
    "df_special['Name'].isin(['Bob','Lars'])\n",
    "\n",
    "any(df_special['Name'].isin(['Flo','Lars']))\n",
    "any(df_special['Name'].isin(['Bob','Lars']))\n",
    "\n",
    "a=1\n"
   ]
  },
  {
   "attachments": {},
   "cell_type": "markdown",
   "metadata": {},
   "source": [
    "### Operations: <a class='anchor' id='operations_df'></a>"
   ]
  },
  {
   "cell_type": "code",
   "execution_count": 196,
   "metadata": {},
   "outputs": [],
   "source": [
    "'''Addition: add one dataframe to another'''\n",
    "df_added = df.add(df)\n",
    "#df_added.head()\n",
    "#you can also df.add(df, fill_value = 3) to avoid nans. Replaces NaN values by 3.\n",
    "df_changed= df.copy()\n",
    "df_changed.loc[2,'ftr1'] = np.nan\n",
    "df_added_nan = df.add(df_changed, fill_value=3)\n",
    "#df_added_nan.head()\n",
    "\n",
    "'''sum rows '''\n",
    "sum_row = df[['ftr1','ftr2']].sum(axis=1) #sums up every row of ftr1 and ftr2\n",
    "'''sum column'''\n",
    "sum_column = df.sum(axis=0)\n",
    "\n",
    "'''Multiplication'''\n",
    "double = df_changed['ftr1'].mul(2)\n",
    "\n",
    "multiplied_columns = df_changed['ftr1'] * (1 - df_changed['ftr2'])\n"
   ]
  },
  {
   "attachments": {},
   "cell_type": "markdown",
   "metadata": {},
   "source": [
    "### Look at the data: <a class='anchor' id='look_data'></a>"
   ]
  },
  {
   "cell_type": "code",
   "execution_count": 197,
   "metadata": {},
   "outputs": [],
   "source": [
    "df.head(1)\n",
    "df.sample() #like head() but random\n",
    "#df.sample(5, replace=True, weights='ftr1') #Weights high values for ftr1 higher (higher probability to select those)\n",
    "\n",
    "df.columns\n",
    "df.index\n",
    "df.index.is_unique\n",
    "df.shape\n",
    "df.describe()\n",
    "df['ftr1'].describe()\n",
    "df.mean()\n",
    "#df_changed.mean(skipna=True, numeric_only=True)\n",
    "\n",
    "#count which value is represented how often\n",
    "df['ftr1'].value_counts()\n",
    "#Returns all values of a dataframes column and the UNIQUE VALUES:\n",
    "df_special = pd.DataFrame([['Alice', 21], ['Bob', 22], ['Charlie', 23], ['Charlie', 23], ['Charlie', 23]], columns=['Name', 'Age'])\n",
    "s = pd.Categorical(df_special['Name'])\n",
    "unique_values = s.categories\n",
    "\n",
    "a=1"
   ]
  },
  {
   "attachments": {},
   "cell_type": "markdown",
   "metadata": {},
   "source": [
    "### Clean the data: <a class='anchor' id='clean_data'></a>"
   ]
  },
  {
   "cell_type": "code",
   "execution_count": 198,
   "metadata": {},
   "outputs": [],
   "source": [
    "df_changed = df.copy()\n",
    "\n",
    "#order the index\n",
    "df_changed.sort_index(ascending=False) #by default alphabetically or ascending\n",
    "df_changed = df_changed.sort_values(by='ftr1', ascending=False)#.reset_index(drop=True)\n",
    "df_changed\n",
    "\n",
    "#Check for NaNs\n",
    "len(df[df.isna().any(axis=1)])\n",
    "\n",
    "#drop NaNs (drops the entire row)\n",
    "df_changed.loc[2, 'ftr2'] = np.nan\n",
    "df_changed.loc[5] = np.nan\n",
    "df_changed = df_changed.dropna()\n",
    "#df_changed = df_changed.dropna(how='all') #removes only the rows where all columns have NaN\n",
    "df_changed\n",
    "\n",
    "#Fills NaNs\n",
    "df_changed = df.copy()\n",
    "df_changed.loc[2] = np.nan\n",
    "#df_changed = df_changed.fillna(15)\n",
    "df_changed.fillna(15, inplace = True) #Adds the changes directly to the original dataframe\n",
    "#df_changed.fillna({'ftr1':12, 'ftr2':15}, inplace=True) #specify columns\n",
    "df_changed\n",
    "\n",
    "#drop duplicates\n",
    "df_changed = df.copy()\n",
    "df_changed.loc[df_changed['ftr1'] > 0.5, 'ftr1'] = 2\n",
    "df_changed = df_changed.drop_duplicates('ftr1')\n",
    "\n",
    "\n",
    "#a=1"
   ]
  },
  {
   "attachments": {},
   "cell_type": "markdown",
   "metadata": {},
   "source": [
    "### Concatenate <a class='anchor' id='concatenate_'></a>"
   ]
  },
  {
   "cell_type": "code",
   "execution_count": 199,
   "metadata": {},
   "outputs": [],
   "source": [
    "df_changed = df.copy()\n",
    "\n",
    "# Add below (vertically)\n",
    "pd.concat([df_changed, df_changed], axis=0)\n",
    "\n",
    "# Add to the right (horizontally)\n",
    "pd.concat([df_changed, df_changed], axis=1)\n",
    "\n",
    "a=1"
   ]
  },
  {
   "attachments": {},
   "cell_type": "markdown",
   "metadata": {},
   "source": [
    "### Merge: <a class='anchor' id='merge'></a>"
   ]
  },
  {
   "cell_type": "code",
   "execution_count": 200,
   "metadata": {},
   "outputs": [],
   "source": [
    "df_changed1 = df[['ftr1', 'ftr2']].copy()\n",
    "df_changed2 = df[['ftr1', 'ftr3']].copy()\n",
    "\n",
    "merged = pd.merge(df_changed1, df_changed2, on='ftr1')\n",
    "#If you have different column names, use:\n",
    "#merged_df = pd.merge(df1, df2, left_on='C', right_on='F')"
   ]
  },
  {
   "attachments": {},
   "cell_type": "markdown",
   "metadata": {},
   "source": [
    "### Dummy Variables: <a class='anchor' id='dummies'></a>"
   ]
  },
  {
   "cell_type": "code",
   "execution_count": 201,
   "metadata": {},
   "outputs": [],
   "source": [
    "df_changed = df_special.copy()\n",
    "df_dummies = pd.get_dummies(df_changed)\n",
    "\n",
    "#df_dummies = pd.get_dummies(df_changed, columns=['name'], prefix='name_')"
   ]
  },
  {
   "attachments": {},
   "cell_type": "markdown",
   "metadata": {},
   "source": [
    "## Groupby: <a class='anchor' id='group_by'></a>"
   ]
  },
  {
   "attachments": {},
   "cell_type": "markdown",
   "metadata": {},
   "source": [
    "### Basic: <a class='anchor' id='basic_groupby'></a>"
   ]
  },
  {
   "cell_type": "code",
   "execution_count": 202,
   "metadata": {},
   "outputs": [],
   "source": [
    "df_special = pd.DataFrame([['Alice', 22, 2], ['Alice', 23, 6], ['Alice', 24, 8],\n",
    "                            ['Bob', 22, 4], ['Bob', 23, 5], ['Bob', 24, 7],\n",
    "                            ['Charlie', 22, 4], ['Charlie', 23, 5], ['Charlie', 24, 7],\n",
    "                            ],\n",
    "                  columns=['Name', 'day', 'hours'])\n",
    "\n",
    "df_grouped = df_special.groupby('Name')\n",
    "#df_grouped.head()"
   ]
  },
  {
   "attachments": {},
   "cell_type": "markdown",
   "metadata": {},
   "source": [
    "### groupby Several times:"
   ]
  },
  {
   "cell_type": "code",
   "execution_count": 203,
   "metadata": {},
   "outputs": [
    {
     "name": "stderr",
     "output_type": "stream",
     "text": [
      "UsageError: Cell magic `%%skip` not found.\n"
     ]
    }
   ],
   "source": [
    "%%skip\n",
    "df.groupby(['Season', 'Episode', 'Scene']).count().reset_index().groupby('Season').count()['Scene']"
   ]
  },
  {
   "attachments": {},
   "cell_type": "markdown",
   "metadata": {},
   "source": [
    "### Access groups: <a class='anchor' id='access_groups_groupby'></a>"
   ]
  },
  {
   "cell_type": "code",
   "execution_count": 204,
   "metadata": {},
   "outputs": [],
   "source": [
    "#Names = pd.Categorical(df_special['Name']).categories\n",
    "Names = df_grouped.first().index\n",
    "df_grouped.get_group(Names[2])\n",
    "a=1"
   ]
  },
  {
   "attachments": {},
   "cell_type": "markdown",
   "metadata": {},
   "source": [
    "### Functions: <a class='anchor' id='func_groupby'></a>"
   ]
  },
  {
   "cell_type": "code",
   "execution_count": 205,
   "metadata": {},
   "outputs": [
    {
     "data": {
      "text/plain": [
       "3"
      ]
     },
     "execution_count": 205,
     "metadata": {},
     "output_type": "execute_result"
    }
   ],
   "source": [
    "'''Count -> count number of elements per group'''\n",
    "counts = df_grouped.count()\n",
    "counts\n",
    "\n",
    "'''Size -> almost better than count. size() returns a pandas Series'''\n",
    "size = df_grouped.size()\n",
    "#plot\n",
    "#plt.bar(size.index, size)\n",
    "#Access single count:\n",
    "position1 = np.where(size.index == 'Alice')[0][0]\n",
    "position2 = np.where(size.index == 'Bob')[0][0]\n",
    "\n",
    "access_single_count = size[position1]\n",
    "\n",
    "'''sum -> takes the sum of the values'''\n",
    "sum = df_grouped.sum()\n",
    "sum\n",
    "\n",
    "a=1\n",
    "access_single_count"
   ]
  },
  {
   "attachments": {},
   "cell_type": "markdown",
   "metadata": {},
   "source": [
    "#### Count / Size a one column dataframe:"
   ]
  },
  {
   "attachments": {},
   "cell_type": "markdown",
   "metadata": {},
   "source": [
    "Just add a second column with some random entry. Then you can group by the first column and count the other the other elements. "
   ]
  },
  {
   "attachments": {},
   "cell_type": "markdown",
   "metadata": {},
   "source": [
    "Apply: <a class='anchor' id='apply_groupby'></a>"
   ]
  },
  {
   "cell_type": "code",
   "execution_count": 206,
   "metadata": {},
   "outputs": [],
   "source": [
    "def get_mean_count(group):\n",
    "    return {'mean': round(group['day'].mean(), 2), 'count': group['day'].count()}"
   ]
  },
  {
   "cell_type": "code",
   "execution_count": 207,
   "metadata": {},
   "outputs": [
    {
     "name": "stdout",
     "output_type": "stream",
     "text": [
      "Name\n",
      "Alice      {'mean': 23.0, 'count': 3}\n",
      "Bob        {'mean': 23.0, 'count': 3}\n",
      "Charlie    {'mean': 23.0, 'count': 3}\n",
      "dtype: object\n"
     ]
    }
   ],
   "source": [
    "df_changed = df_special.copy()\n",
    "grouped = df_changed.groupby('Name').apply(get_mean_count)\n",
    "print(grouped)"
   ]
  },
  {
   "attachments": {},
   "cell_type": "markdown",
   "metadata": {},
   "source": [
    "Apply: generate new columns"
   ]
  },
  {
   "cell_type": "code",
   "execution_count": 208,
   "metadata": {},
   "outputs": [],
   "source": [
    "df_grouped = df_changed.groupby('Name').apply(lambda x: pd.Series({\n",
    "        'average': x['day'].mean(),\n",
    "        'std': x['day'].std()\n",
    "    }))\n",
    "\n",
    "#df_grouped"
   ]
  },
  {
   "attachments": {},
   "cell_type": "markdown",
   "metadata": {},
   "source": [
    "Aggregate: <a class='anchor' id='aggregate_group'></a>"
   ]
  },
  {
   "cell_type": "code",
   "execution_count": 209,
   "metadata": {},
   "outputs": [
    {
     "data": {
      "text/plain": [
       "\" other options:\\nsum: sums the elements.\\ncount: count the non-NA values\\nsize: counts all values\\nstd: standard deviation\\nvar: computes variance\\nmin: minimum\\nmax: maximum\\n\\nyou can also add a custom_function (call it without '')\\n\\ndef custom_function(x):\\n  return x.mean() + x.std()\\n  \\ndf_changed.groupby('Name')['day'].agg(['mean', 'size', custom_function])\""
      ]
     },
     "execution_count": 209,
     "metadata": {},
     "output_type": "execute_result"
    }
   ],
   "source": [
    "grouped = df_changed.groupby('Name')['day'].agg(['mean', 'size'])\n",
    "#size is the number of elements per group.\n",
    "''' other options:\n",
    "sum: sums the elements.\n",
    "count: count the non-NA values\n",
    "size: counts all values\n",
    "std: standard deviation\n",
    "var: computes variance\n",
    "min: minimum\n",
    "max: maximum\n",
    "\n",
    "you can also add a custom_function (call it without '')\n",
    "\n",
    "def custom_function(x):\n",
    "  return x.mean() + x.std()\n",
    "  \n",
    "df_changed.groupby('Name')['day'].agg(['mean', 'size', custom_function])'''"
   ]
  },
  {
   "attachments": {},
   "cell_type": "markdown",
   "metadata": {},
   "source": [
    "### Unstack: <a class='anchor' id='unstack_groupby'></a>"
   ]
  },
  {
   "cell_type": "code",
   "execution_count": 210,
   "metadata": {},
   "outputs": [
    {
     "data": {
      "text/plain": [
       "\"df_unstacked = df_special.groupby(['Name', 'day']).unstack()\\ndf_unstacked\""
      ]
     },
     "execution_count": 210,
     "metadata": {},
     "output_type": "execute_result"
    }
   ],
   "source": [
    "#finish later\n",
    "'''df_unstacked = df_special.groupby(['Name', 'day']).unstack()\n",
    "df_unstacked'''"
   ]
  },
  {
   "attachments": {},
   "cell_type": "markdown",
   "metadata": {},
   "source": [
    "## Select: <a class='anchor' id='select_df'></a>"
   ]
  },
  {
   "attachments": {},
   "cell_type": "markdown",
   "metadata": {},
   "source": [
    "### Standard <a class='anchor' id='standard_select'></a>"
   ]
  },
  {
   "cell_type": "code",
   "execution_count": 211,
   "metadata": {},
   "outputs": [],
   "source": [
    "#Standard:\n",
    "df_changed = df[df['ftr1']> 0.5]"
   ]
  },
  {
   "attachments": {},
   "cell_type": "markdown",
   "metadata": {},
   "source": [
    "### Query <a class='anchor' id='query_select'></a>"
   ]
  },
  {
   "cell_type": "code",
   "execution_count": 212,
   "metadata": {},
   "outputs": [],
   "source": [
    "df_special = pd.DataFrame([['Alice', 21], ['Bob', 22], ['Charlie', 23]],\n",
    "                  columns=['Name', 'Age'])\n",
    "\n",
    "df_changed = df_special.query('Age > 20 & Age < 23')\n",
    "df_changed_str = df_special.query(\"Name == 'Alice' | Name =='Charlie'\")\n",
    "\n",
    "#df_changed"
   ]
  },
  {
   "attachments": {},
   "cell_type": "markdown",
   "metadata": {},
   "source": [
    "## Datetime <a class='anchor' id='datetime_'></a>"
   ]
  },
  {
   "cell_type": "code",
   "execution_count": 213,
   "metadata": {},
   "outputs": [],
   "source": [
    "df_time = pd.DataFrame(['1998-04-28 09:32:13', '1998-04-28 09:32:13','1998-04-28 09:32:13'], columns=['date'])\n",
    "\n",
    "#Transform string to datetime\n",
    "df_time['date'] = pd.to_datetime(df_time['date'], format=\"%Y-%m-%d %H:%M:%S\")\n",
    "\n",
    "#extract year\n",
    "df_time['year']= df_time['date'].dt.year\n",
    "\n",
    "#extract month\n",
    "df_time['month']= df_time['date'].dt.month\n"
   ]
  },
  {
   "attachments": {},
   "cell_type": "markdown",
   "metadata": {},
   "source": [
    "## Gimmicks: <a class='anchor' id='df_tricks'></a>"
   ]
  },
  {
   "attachments": {},
   "cell_type": "markdown",
   "metadata": {},
   "source": [
    "### Pivot() <a class='anchor' id='pivot_df'></a>"
   ]
  },
  {
   "cell_type": "code",
   "execution_count": 214,
   "metadata": {},
   "outputs": [],
   "source": [
    "df_special = pd.DataFrame([['Alice', 22, 2], ['Alice', 23, 6], ['Alice', 24, 8],\n",
    "                            ['Bob', 22, 4], ['Bob', 23, 5], ['Bob', 24, 7],\n",
    "                            ['Charlie', 22, 4], ['Charlie', 23, 5], ['Charlie', 24, 7],\n",
    "                            ],\n",
    "                  columns=['Name', 'day', 'hours'])\n",
    "\n",
    "df_changed = df_special.copy()\n",
    "df_changed.pivot(index='day', columns = 'Name', values = 'hours')\n",
    "\n",
    "a=1"
   ]
  },
  {
   "attachments": {},
   "cell_type": "markdown",
   "metadata": {},
   "source": [
    "### Crosstab (for heatmaps) <a class='anchor' id='crosstab'></a>"
   ]
  },
  {
   "attachments": {},
   "cell_type": "markdown",
   "metadata": {},
   "source": [
    "Counts how many elements we have for each group made by two column values."
   ]
  },
  {
   "cell_type": "code",
   "execution_count": 215,
   "metadata": {},
   "outputs": [
    {
     "data": {
      "text/html": [
       "<div>\n",
       "<style scoped>\n",
       "    .dataframe tbody tr th:only-of-type {\n",
       "        vertical-align: middle;\n",
       "    }\n",
       "\n",
       "    .dataframe tbody tr th {\n",
       "        vertical-align: top;\n",
       "    }\n",
       "\n",
       "    .dataframe thead th {\n",
       "        text-align: right;\n",
       "    }\n",
       "</style>\n",
       "<table border=\"1\" class=\"dataframe\">\n",
       "  <thead>\n",
       "    <tr style=\"text-align: right;\">\n",
       "      <th>B</th>\n",
       "      <th>one</th>\n",
       "      <th>two</th>\n",
       "    </tr>\n",
       "    <tr>\n",
       "      <th>A</th>\n",
       "      <th></th>\n",
       "      <th></th>\n",
       "    </tr>\n",
       "  </thead>\n",
       "  <tbody>\n",
       "    <tr>\n",
       "      <th>bar</th>\n",
       "      <td>8</td>\n",
       "      <td>4</td>\n",
       "    </tr>\n",
       "    <tr>\n",
       "      <th>foo</th>\n",
       "      <td>1</td>\n",
       "      <td>8</td>\n",
       "    </tr>\n",
       "  </tbody>\n",
       "</table>\n",
       "</div>"
      ],
      "text/plain": [
       "B    one  two\n",
       "A            \n",
       "bar    8    4\n",
       "foo    1    8"
      ]
     },
     "execution_count": 215,
     "metadata": {},
     "output_type": "execute_result"
    }
   ],
   "source": [
    "df_cross = pd.DataFrame({\n",
    "    \"A\": [\"foo\", \"bar\", \"foo\", \"bar\", \"foo\", \"bar\"],\n",
    "    \"B\": [\"one\", \"one\", \"two\", \"two\", \"two\", \"one\"],\n",
    "    \"C\": [1, 2, 3, 4, 5, 6]\n",
    "})\n",
    "\n",
    "#Count of elements\n",
    "ct_simple = pd.crosstab(df_cross['A'], df_cross['B'])\n",
    "\n",
    "#Take the sum of the value C\n",
    "ct_agg = pd.crosstab(df_cross[\"A\"], df_cross[\"B\"], values=df_cross[\"C\"], aggfunc=\"sum\")\n",
    "\n",
    "#Makes A and B on the y axis and column C on the x axis (note that A and B are in the same bracket [A, B])\n",
    "c_agg_2 = pd.crosstab([df_cross[\"A\"], df_cross[\"B\"]], df_cross['C'], values=df_cross[\"C\"], aggfunc=\"sum\")\n",
    "ct_agg\n"
   ]
  },
  {
   "attachments": {},
   "cell_type": "markdown",
   "metadata": {},
   "source": [
    "### Transform categorical features into integers: <a class='anchor' id='cat_to_int_df'></a>"
   ]
  },
  {
   "cell_type": "code",
   "execution_count": 216,
   "metadata": {},
   "outputs": [],
   "source": [
    "df_special = pd.DataFrame([['Alice', 22, 2], ['Alice', 23, 6], ['Alice', 24, 8],\n",
    "                            ['Bob', 22, 4], ['Bob', 23, 5], ['Bob', 24, 7],\n",
    "                            ['Charlie', 22, 4], ['Charlie', 23, 5], ['Charlie', 24, 7],\n",
    "                            ],\n",
    "                  columns=['Name', 'day', 'hours'])\n",
    "\n",
    "df_special\n",
    "df_special['Name'] = df_special['Name'].astype('category')\n",
    "df_special['Name'] = df_special['Name'].cat.codes\n",
    "df_special\n",
    "a=1"
   ]
  },
  {
   "attachments": {},
   "cell_type": "markdown",
   "metadata": {},
   "source": [
    "### Transform dtypes: <a class='anchor' id='transform_dtype'></a>"
   ]
  },
  {
   "cell_type": "code",
   "execution_count": 217,
   "metadata": {},
   "outputs": [
    {
     "data": {
      "text/plain": [
       "str"
      ]
     },
     "execution_count": 217,
     "metadata": {},
     "output_type": "execute_result"
    }
   ],
   "source": [
    "variable = 'hello'\n",
    "type(variable)"
   ]
  },
  {
   "cell_type": "code",
   "execution_count": 218,
   "metadata": {},
   "outputs": [],
   "source": [
    "ftr1_string = df['ftr1'].astype(str)\n",
    "\n",
    "#other types are: int, float, bool"
   ]
  },
  {
   "cell_type": "code",
   "execution_count": 219,
   "metadata": {},
   "outputs": [
    {
     "data": {
      "text/plain": [
       "'string to numeric'"
      ]
     },
     "execution_count": 219,
     "metadata": {},
     "output_type": "execute_result"
    }
   ],
   "source": [
    "'''string to numeric'''\n",
    "# df['string_ftr'] = pd.to_numeric(df['string_ftr'])\n",
    "#df['string_ftr'] = df['string_ftr'].apply(lambda x: float(x))\n",
    "#df['string_ftr'] = df['string_ftr'].astype(float)"
   ]
  },
  {
   "attachments": {},
   "cell_type": "markdown",
   "metadata": {},
   "source": [
    "### Binning using cut(): <a class='anchor' id='binning_cut'></a>"
   ]
  },
  {
   "cell_type": "code",
   "execution_count": 220,
   "metadata": {},
   "outputs": [],
   "source": [
    "df_changed = df.copy()\n",
    "bins = [0, 0.25,0.5,0.75,1]\n",
    "df_changed['bins'] = pd.cut(df_changed['ftr1'], bins)\n",
    "#df_changed\n"
   ]
  },
  {
   "attachments": {},
   "cell_type": "markdown",
   "metadata": {},
   "source": [
    "### Split a DataSet: <a class='anchor' id='split_dataset'></a>"
   ]
  },
  {
   "cell_type": "code",
   "execution_count": 221,
   "metadata": {},
   "outputs": [],
   "source": [
    "def split_data(df, ratio=0.8):\n",
    "    mask = np.random.rand(len(df)) < ratio\n",
    "    #first is the training, second the test set\n",
    "    return [df[mask].reset_index(drop=True), df[~mask].reset_index(drop=True)]"
   ]
  },
  {
   "attachments": {},
   "cell_type": "markdown",
   "metadata": {},
   "source": [
    "### Bootstrap function: <a class='anchor' id='bootstrap'></a>"
   ]
  },
  {
   "cell_type": "code",
   "execution_count": 222,
   "metadata": {},
   "outputs": [],
   "source": [
    "# This is a helper bootstrapping function you can use in this exercise to obtain 95% confidence\n",
    "# intervals around the estimated average. The underlying concept will be explained in the next week's lecture.\n",
    "\n",
    "# Input: your array and the number of random samples (e.g., 1000 is a good number)\n",
    "# Output: [lower error, upper error]\n",
    "\n",
    "def bootstrap_CI(data, nbr_draws):\n",
    "    means = np.zeros(nbr_draws)\n",
    "    data = np.array(data)\n",
    "\n",
    "    for n in range(nbr_draws):\n",
    "        indices = np.random.randint(0, len(data), len(data))\n",
    "        #np.random.randint(a,b,c)\n",
    "        #returns c random values between a and b.\n",
    "        data_tmp = data[indices] \n",
    "        means[n] = np.nanmean(data_tmp)\n",
    "\n",
    "    return [np.nanpercentile(means, 2.5),np.nanpercentile(means, 97.5)]"
   ]
  },
  {
   "cell_type": "code",
   "execution_count": 223,
   "metadata": {},
   "outputs": [
    {
     "name": "stdout",
     "output_type": "stream",
     "text": [
      "95% Confidence interval for the mean: [3.8    7.2025]\n"
     ]
    }
   ],
   "source": [
    "from sklearn.utils import resample\n",
    "import numpy as np\n",
    "\n",
    "# original dataset\n",
    "data = [1, 2, 3, 4, 5, 6, 7, 8, 9, 10]\n",
    "\n",
    "# bootstrap the mean of the dataset 1000 times\n",
    "bootstrap_means = []\n",
    "for i in range(1000):\n",
    "    bootstrap_sample = resample(data)\n",
    "    bootstrap_means.append(np.mean(bootstrap_sample))\n",
    "\n",
    "# calculate the 95% confidence interval\n",
    "confidence_interval = np.percentile(bootstrap_means, [2.5, 97.5])\n",
    "print(\"95% Confidence interval for the mean:\", confidence_interval)"
   ]
  },
  {
   "attachments": {},
   "cell_type": "markdown",
   "metadata": {},
   "source": [
    "### One-hot encoding:"
   ]
  },
  {
   "cell_type": "code",
   "execution_count": 224,
   "metadata": {},
   "outputs": [],
   "source": [
    "from sklearn.preprocessing import OneHotEncoder\n",
    "\n",
    "# Create a sample dataframe\n",
    "data = {'color': ['red', 'green', 'blue', 'red', 'green'],\n",
    "        'object': ['apple', 'apple', 'spoon', 'pen', 'pen']}\n",
    "df_test = pd.DataFrame(data)\n",
    "\n",
    "# Create an instance of the one-hot encoder\n",
    "encoder = OneHotEncoder()\n",
    "\n",
    "# Fit and transform the 'color' column to one-hot encoding\n",
    "one_hot = encoder.fit_transform(df_test[['color']])\n",
    "\n",
    "# Create new DataFrame from the one-hot encoded data\n",
    "one_hot_df = pd.DataFrame(one_hot.toarray(), columns=encoder.get_feature_names_out(['color']))\n",
    "\n",
    "# Drop the original 'color' column and add the one-hot encoded columns\n",
    "df_test = df_test.drop('color', axis=1)\n",
    "df_test = pd.concat([df_test, one_hot_df], axis=1)\n",
    "\n",
    "#df_test.head()\n"
   ]
  },
  {
   "attachments": {},
   "cell_type": "markdown",
   "metadata": {},
   "source": [
    "## Statistics: <a class='anchor' id='statistics'></a>"
   ]
  },
  {
   "attachments": {},
   "cell_type": "markdown",
   "metadata": {},
   "source": [
    "### Check if data comes from a given distribution (ktest): <a class='anchor' id='k_test'></a>"
   ]
  },
  {
   "cell_type": "code",
   "execution_count": 225,
   "metadata": {},
   "outputs": [],
   "source": [
    "from statsmodels.stats import diagnostic"
   ]
  },
  {
   "cell_type": "code",
   "execution_count": 226,
   "metadata": {},
   "outputs": [],
   "source": [
    "d = diagnostic.kstest_normal(df['ftr1'].values, dist='norm')\n",
    "ksstat = d[0]\n",
    "p_value = d[1] #p-value for the Null-hypothesis of the data being normally distributed. Low p-value -> not normally distributed\n",
    "\n",
    "#for exponential distribution replace 'norm' by 'exp', "
   ]
  },
  {
   "attachments": {},
   "cell_type": "markdown",
   "metadata": {},
   "source": [
    "### T-test: <a class='anchor' id='t_test'></a>\n",
    "To test whether the means of two distinct populations differ."
   ]
  },
  {
   "cell_type": "code",
   "execution_count": 227,
   "metadata": {},
   "outputs": [],
   "source": [
    "from scipy.stats import ttest_ind"
   ]
  },
  {
   "cell_type": "code",
   "execution_count": 228,
   "metadata": {},
   "outputs": [],
   "source": [
    "#Independent t-test (Two groups of independent samples or scores)\n",
    "t = ttest_ind(df['ftr1'], df['ftr2'])\n",
    "t_value = t[0]\n",
    "p_value = t[1]\n",
    "#print(t_value, p_value)"
   ]
  },
  {
   "attachments": {},
   "cell_type": "markdown",
   "metadata": {},
   "source": [
    "### Chi-square test:"
   ]
  },
  {
   "cell_type": "code",
   "execution_count": 229,
   "metadata": {},
   "outputs": [
    {
     "name": "stdout",
     "output_type": "stream",
     "text": [
      "Chi-squared test statistic:  0.0\n",
      "p-value:  1.0\n"
     ]
    }
   ],
   "source": [
    "from scipy.stats import chi2_contingency\n",
    "\n",
    "# Example data\n",
    "data = [[2, 4]\\\n",
    "        , [1, 5]]\n",
    "\n",
    "# Perform the chi-squared test\n",
    "chi2, p, dof, expected = chi2_contingency(data)\n",
    "\n",
    "# Print the test statistic and p-value\n",
    "print(\"Chi-squared test statistic: \", chi2)\n",
    "print(\"p-value: \", p)"
   ]
  },
  {
   "attachments": {},
   "cell_type": "markdown",
   "metadata": {},
   "source": [
    "### Binomial test <a class='anchor' id='binom_test'></a>\n",
    "Perform a test that the probability of success is p."
   ]
  },
  {
   "cell_type": "code",
   "execution_count": 230,
   "metadata": {},
   "outputs": [],
   "source": [
    "from statsmodels.stats.proportion import binom_test"
   ]
  },
  {
   "cell_type": "code",
   "execution_count": 231,
   "metadata": {},
   "outputs": [
    {
     "data": {
      "text/plain": [
       "\"\\nalternative='two-sided'/'smaller'/'bigger'\\n    one sided would be either smaller or bigger\\n\""
      ]
     },
     "execution_count": 231,
     "metadata": {},
     "output_type": "execute_result"
    }
   ],
   "source": [
    "nbrS = 5 #number of success\n",
    "nbrT = 10 #number of trials\n",
    "pS = 0.5 #the probability for a success under the null hypothesis\n",
    "#if p-value is low, the probability is wrong\n",
    "p_value = binom_test(nbrS,nbrT,pS)\n",
    "\n",
    "'''\n",
    "alternative='two-sided'/'smaller'/'bigger'\n",
    "    one sided would be either smaller or bigger\n",
    "'''"
   ]
  },
  {
   "attachments": {},
   "cell_type": "markdown",
   "metadata": {},
   "source": [
    "### Pearson correlation: <a class='anchor' id='pearson_corr'></a>"
   ]
  },
  {
   "cell_type": "code",
   "execution_count": 232,
   "metadata": {},
   "outputs": [],
   "source": [
    "from scipy.stats import pearsonr"
   ]
  },
  {
   "cell_type": "code",
   "execution_count": 233,
   "metadata": {},
   "outputs": [],
   "source": [
    "pear = pearsonr(df['ftr1'], df['ftr3'])\n",
    "correlation = pear[0]\n",
    "p_value = pear[1]"
   ]
  },
  {
   "attachments": {},
   "cell_type": "markdown",
   "metadata": {},
   "source": [
    "### Spearman correlation <a class='anchor' id='spearson_corr'></a>"
   ]
  },
  {
   "cell_type": "code",
   "execution_count": 234,
   "metadata": {},
   "outputs": [],
   "source": [
    "from scipy.stats import spearmanr"
   ]
  },
  {
   "cell_type": "code",
   "execution_count": 235,
   "metadata": {},
   "outputs": [
    {
     "name": "stdout",
     "output_type": "stream",
     "text": [
      "0.03615384615384615 0.8637754440430968\n"
     ]
    }
   ],
   "source": [
    "spear = spearmanr(df['ftr1'], df['ftr3'])\n",
    "correlation = spear[0]\n",
    "p_value = spear[1]\n",
    "print(correlation, p_value)"
   ]
  },
  {
   "attachments": {},
   "cell_type": "markdown",
   "metadata": {},
   "source": [
    "### Plot Correlation using sns <a class='anchor' id='sns_corr_plot'></a>"
   ]
  },
  {
   "cell_type": "code",
   "execution_count": 236,
   "metadata": {},
   "outputs": [
    {
     "data": {
      "image/png": "[encoded data removed]",
      "text/plain": [
       "<Figure size 568.486x500 with 1 Axes>"
      ]
     },
     "metadata": {},
     "output_type": "display_data"
    }
   ],
   "source": [
    "df_changed = df.copy()\n",
    "df_changed['new_cat'] = df_changed['ftr1'].apply(lambda x: 1 if x < 0.5 else 0)\n",
    "sns.lmplot(x='ftr1',y='ftr2', hue='new_cat',data=df_changed)\n",
    "#hue groups the datapoints by their categories in 'new_cat'\n",
    "plt.show()"
   ]
  },
  {
   "attachments": {},
   "cell_type": "markdown",
   "metadata": {},
   "source": [
    "### Make samples: <a clas='anchor' id='make_samples'></a>"
   ]
  },
  {
   "cell_type": "code",
   "execution_count": 237,
   "metadata": {},
   "outputs": [],
   "source": [
    "df_changed = df.copy()\n",
    "sample_size = 5\n",
    "#With replacement\n",
    "sample1 = df_changed.sample(n=sample_size, replace=True)\n",
    "#Without replacement\n",
    "sample2 = df_changed.sample(n=sample_size, replace=False)\n",
    "#Give high values from a given column more weight.\n",
    "sample3 = df_changed.sample(n=sample_size, replace=False, weights=df_changed['ftr3'])"
   ]
  },
  {
   "attachments": {},
   "cell_type": "markdown",
   "metadata": {},
   "source": [
    "## Write or read files: <a class='anchor' id='write_read_file'></a>"
   ]
  },
  {
   "cell_type": "code",
   "execution_count": 238,
   "metadata": {},
   "outputs": [
    {
     "name": "stderr",
     "output_type": "stream",
     "text": [
      "UsageError: Cell magic `%%skip` not found.\n"
     ]
    }
   ],
   "source": [
    "%%skip\n",
    "#read csv\n",
    "data = pd.read_csv('PATH/file_name.csv')\n",
    "'''data = pd.read_csv('PATH/file_name.csv', skiprows=5, nrows=7, na_values=['N/A', 'n/a'])'''\n",
    "'''     skips the first five rows, alternatively use skiprows=[3,2,5] -> skips row 3,2 and 5 '''\n",
    "'''     nrows=7 -> import only the first 7 rows'''\n",
    "'''     na_values will treat all 'N/A' and 'n/a' entries as NaN as well'''\n",
    "#write a csv\n",
    "df.to_csv('name.csv')\n",
    "\n",
    "#read an excel\n",
    "data = pd.read_excel('PATH/name.xlsx')\n",
    "\n",
    "#read a tsv file\n",
    "df = pd.read_csv('path/to/file.tsv', sep='\\t')\n",
    "df = pd.read_table('path/to/file.tsv')\n",
    "\n",
    "import pickle\n",
    "#write a pickle\n",
    "'''with open('df.pkl', 'wb') as f:\n",
    "    pickle.dump(df, f)'''\n",
    "\n",
    "#load a pickle\n",
    "'''with open('PATH/data.pkl', 'rb') as f:\n",
    "    data = pickle.load(f)'''"
   ]
  },
  {
   "attachments": {},
   "cell_type": "markdown",
   "metadata": {},
   "source": [
    "# Series: <a class='anchor' id='Series'></a>"
   ]
  },
  {
   "attachments": {},
   "cell_type": "markdown",
   "metadata": {},
   "source": [
    "## Initialize: <a class='anchor' id='initialize_ser'></a>"
   ]
  },
  {
   "cell_type": "code",
   "execution_count": 239,
   "metadata": {},
   "outputs": [],
   "source": [
    "ser = pd.Series([1, 1,3,3,3, 7, 3, 5, 7, 9])"
   ]
  },
  {
   "attachments": {},
   "cell_type": "markdown",
   "metadata": {},
   "source": [
    "## Functions: <a class='anchor' id='func_series'></a>"
   ]
  },
  {
   "cell_type": "code",
   "execution_count": 240,
   "metadata": {},
   "outputs": [],
   "source": [
    "#hide\n",
    "data = np.random.random(5)\n",
    "series = pd.Series(data)\n",
    "series[0] = np.nan"
   ]
  },
  {
   "cell_type": "code",
   "execution_count": 241,
   "metadata": {},
   "outputs": [],
   "source": [
    "#Detect NaN values (not 0)\n",
    "series.notnull()\n",
    "series.isnull()\n",
    "\n",
    "#Value counts (which value appears how often): (sort_index to have highest count first)\n",
    "counts = ser.value_counts().reset_index().sort_index()\n",
    "counts.iloc[0]\n",
    "\n",
    "a=1"
   ]
  },
  {
   "attachments": {},
   "cell_type": "markdown",
   "metadata": {},
   "source": [
    "# Numpy <a class='anchor' id='numpy'></a>"
   ]
  },
  {
   "attachments": {},
   "cell_type": "markdown",
   "metadata": {},
   "source": [
    "## random numbers: <a class='anchor' id='random_numpy'></a>"
   ]
  },
  {
   "cell_type": "code",
   "execution_count": 242,
   "metadata": {},
   "outputs": [],
   "source": [
    "#Generate 10 random variable between 0 and 1:\n",
    "data = np.random.random(10)\n",
    "a=1"
   ]
  },
  {
   "attachments": {},
   "cell_type": "markdown",
   "metadata": {},
   "source": [
    "## Introduce a NaN number: <a class='anchor' id='nan_numpy'></a>"
   ]
  },
  {
   "cell_type": "code",
   "execution_count": 243,
   "metadata": {},
   "outputs": [],
   "source": [
    "nan_ = np.nan"
   ]
  },
  {
   "attachments": {},
   "cell_type": "markdown",
   "metadata": {},
   "source": [
    "## Numpy Array:"
   ]
  },
  {
   "cell_type": "code",
   "execution_count": 244,
   "metadata": {},
   "outputs": [],
   "source": [
    "empty_array = np.empty([2,2])\n",
    "zero_array = np.zeros([2,2])"
   ]
  },
  {
   "attachments": {},
   "cell_type": "markdown",
   "metadata": {},
   "source": [
    "# List: <a class='anchor' id='list'></a>"
   ]
  },
  {
   "attachments": {},
   "cell_type": "markdown",
   "metadata": {},
   "source": [
    "## Iterate over several lists: <a class='anchor' id='iterate_zip'></a>"
   ]
  },
  {
   "cell_type": "code",
   "execution_count": 245,
   "metadata": {},
   "outputs": [
    {
     "name": "stdout",
     "output_type": "stream",
     "text": [
      "a\n",
      "d\n",
      "b\n",
      "e\n",
      "c\n",
      "f\n"
     ]
    }
   ],
   "source": [
    "list_a = ['a','b','c']\n",
    "list_b = ['d','e','f','g']\n",
    "for a, b in zip(list_a, list_b):\n",
    "    print(a)\n",
    "    print(b)\n",
    "\n",
    "#you only iterate n times, where n is min(len(list_a),len(list_b))\n"
   ]
  },
  {
   "attachments": {},
   "cell_type": "markdown",
   "metadata": {},
   "source": [
    "## Remove Elements from a list using conditions:"
   ]
  },
  {
   "cell_type": "code",
   "execution_count": 246,
   "metadata": {},
   "outputs": [
    {
     "data": {
      "text/plain": [
       "[1, 2, 3, 2]"
      ]
     },
     "execution_count": 246,
     "metadata": {},
     "output_type": "execute_result"
    }
   ],
   "source": [
    "list_ = [1,2,45,3,2,4]\n",
    "\n",
    "for number in list_:\n",
    "    if number > 2:\n",
    "        list_.remove(number)\n",
    "\n",
    "list_"
   ]
  },
  {
   "attachments": {},
   "cell_type": "markdown",
   "metadata": {},
   "source": [
    "## Drop duplicates from a list:"
   ]
  },
  {
   "cell_type": "code",
   "execution_count": 247,
   "metadata": {},
   "outputs": [],
   "source": [
    "my_list = [1, 2, 3, 2, 1, 4, 5, 4]\n",
    "\n",
    "my_list = list(set(my_list))"
   ]
  },
  {
   "attachments": {},
   "cell_type": "markdown",
   "metadata": {},
   "source": [
    "## concatenate lists:"
   ]
  },
  {
   "cell_type": "code",
   "execution_count": 248,
   "metadata": {},
   "outputs": [
    {
     "name": "stdout",
     "output_type": "stream",
     "text": [
      "[4, 5, 4, 1, 2, 3, 2]\n"
     ]
    }
   ],
   "source": [
    "list1 = [4, 5, 4]\n",
    "list2 = [1, 2, 3, 2]\n",
    "\n",
    "list_concat = list1 + list2\n",
    "\n",
    "print(list_concat)\n"
   ]
  },
  {
   "attachments": {},
   "cell_type": "markdown",
   "metadata": {},
   "source": [
    "## Check if an element is in a list"
   ]
  },
  {
   "cell_type": "code",
   "execution_count": 249,
   "metadata": {},
   "outputs": [
    {
     "name": "stdout",
     "output_type": "stream",
     "text": [
      "True\n",
      "False\n"
     ]
    }
   ],
   "source": [
    "list2 = [1, 2, 3, 2]\n",
    "print(2 in list2)\n",
    "print(5 in list2)"
   ]
  },
  {
   "attachments": {},
   "cell_type": "markdown",
   "metadata": {},
   "source": [
    "# String: <a class='anchor' id='string'></a>"
   ]
  },
  {
   "cell_type": "code",
   "execution_count": 250,
   "metadata": {},
   "outputs": [],
   "source": [
    "word= 'aRandomWord'"
   ]
  },
  {
   "attachments": {},
   "cell_type": "markdown",
   "metadata": {},
   "source": [
    "## Functions: <a class='anchor' id='string_func'></a>"
   ]
  },
  {
   "attachments": {},
   "cell_type": "markdown",
   "metadata": {},
   "source": [
    ".endswith() <a class='anchor' id='endswith'></a>"
   ]
  },
  {
   "cell_type": "code",
   "execution_count": 251,
   "metadata": {},
   "outputs": [
    {
     "data": {
      "text/plain": [
       "True"
      ]
     },
     "execution_count": 251,
     "metadata": {},
     "output_type": "execute_result"
    }
   ],
   "source": [
    "word.endswith('Word')"
   ]
  },
  {
   "attachments": {},
   "cell_type": "markdown",
   "metadata": {},
   "source": [
    "lower case / upper case <a class='anchor' id='upp_low_case'></a>"
   ]
  },
  {
   "cell_type": "code",
   "execution_count": 252,
   "metadata": {},
   "outputs": [],
   "source": [
    "df_special = pd.DataFrame([['Alice', 22, 2], ['Alice', 23, 6], ['Alice', 24, 8],\n",
    "                            ['Bob', 22, 4], ['Bob', 23, 5], ['Bob', 24, 7],\n",
    "                            ['Charlie', 22, 4], ['Charlie', 23, 5], ['Charlie', 24, 7],\n",
    "                            ],\n",
    "                  columns=['Name', 'day', 'hours'])"
   ]
  },
  {
   "cell_type": "code",
   "execution_count": 253,
   "metadata": {},
   "outputs": [],
   "source": [
    "df_changed = df_special.copy()\n",
    "df_changed['Name'] = df_changed['Name'].str.lower() #all words are lowercased.\n",
    "\n",
    "df_changed['Name'] = df_changed['Name'].str.upper()\n",
    "\n",
    "#df_changed['Name']"
   ]
  },
  {
   "attachments": {},
   "cell_type": "markdown",
   "metadata": {},
   "source": [
    "replace / remove characters: <a class='anchor' id='remove_char'></a>"
   ]
  },
  {
   "cell_type": "code",
   "execution_count": 254,
   "metadata": {},
   "outputs": [
    {
     "data": {
      "text/plain": [
       "'334234345.43'"
      ]
     },
     "execution_count": 254,
     "metadata": {},
     "output_type": "execute_result"
    }
   ],
   "source": [
    "#replace\n",
    "'33,95'.replace(',', '.')\n",
    "#replace several characters by one:\n",
    "import re\n",
    "a = 'sdf dfsdfx'\n",
    "re.sub(\"[sf]\", \"J\", a)\n",
    "#remove\n",
    "'334,234,345.43'.replace(',','')\n"
   ]
  },
  {
   "attachments": {},
   "cell_type": "markdown",
   "metadata": {},
   "source": [
    "# Dict:"
   ]
  },
  {
   "attachments": {},
   "cell_type": "markdown",
   "metadata": {},
   "source": [
    "## Access elements:"
   ]
  },
  {
   "cell_type": "code",
   "execution_count": 255,
   "metadata": {},
   "outputs": [],
   "source": [
    "example_dict = {\n",
    "    \"name\": \"John\",\n",
    "    \"age\": 30,\n",
    "    \"city\": \"New York\"\n",
    "}"
   ]
  },
  {
   "cell_type": "code",
   "execution_count": 256,
   "metadata": {},
   "outputs": [
    {
     "data": {
      "text/plain": [
       "30"
      ]
     },
     "execution_count": 256,
     "metadata": {},
     "output_type": "execute_result"
    }
   ],
   "source": [
    "example_dict['age']"
   ]
  },
  {
   "attachments": {},
   "cell_type": "markdown",
   "metadata": {},
   "source": [
    "## Iterate over a dict:"
   ]
  },
  {
   "cell_type": "code",
   "execution_count": 257,
   "metadata": {},
   "outputs": [
    {
     "name": "stdout",
     "output_type": "stream",
     "text": [
      "name\n",
      "age\n",
      "city\n"
     ]
    }
   ],
   "source": [
    "for key in example_dict.keys():\n",
    "    print(key)"
   ]
  },
  {
   "attachments": {},
   "cell_type": "markdown",
   "metadata": {},
   "source": [
    "# General <a class='anchor' id='general_stuff'></a>"
   ]
  },
  {
   "attachments": {},
   "cell_type": "markdown",
   "metadata": {},
   "source": [
    "### Numbers after the comma <a class='anchor' id='decimal_after_comma'></a>"
   ]
  },
  {
   "cell_type": "code",
   "execution_count": 258,
   "metadata": {},
   "outputs": [
    {
     "name": "stdout",
     "output_type": "stream",
     "text": [
      "the number 3.04 will be shown with two decimals\n",
      "3.04\n"
     ]
    }
   ],
   "source": [
    "print('the number {:.3} will be shown with two decimals'.format(3.0394821))\n",
    "\n",
    "print(round(3.0394821, 2))"
   ]
  },
  {
   "attachments": {},
   "cell_type": "markdown",
   "metadata": {},
   "source": [
    "### Linspace / arange: <a class='anchor' id='linspace'></a>"
   ]
  },
  {
   "cell_type": "code",
   "execution_count": 259,
   "metadata": {},
   "outputs": [],
   "source": [
    "a = np.linspace(0,1,100)\n",
    "a = np.arange(0,1,0.01)"
   ]
  },
  {
   "attachments": {},
   "cell_type": "markdown",
   "metadata": {},
   "source": [
    "### Calculations: <a class='anchor' id='general_calcs'></a>"
   ]
  },
  {
   "attachments": {},
   "cell_type": "markdown",
   "metadata": {},
   "source": [
    "#### Mean Squared Error (MSE): <a class='anchor' id='mserror'></a>"
   ]
  },
  {
   "cell_type": "code",
   "execution_count": 260,
   "metadata": {},
   "outputs": [
    {
     "name": "stderr",
     "output_type": "stream",
     "text": [
      "UsageError: Cell magic `%%skip` not found.\n"
     ]
    }
   ],
   "source": [
    "%%skip\n",
    "from sklearn.metrics import mean_squared_error\n",
    "\n",
    "mean_squared_error(y, predicted)"
   ]
  },
  {
   "attachments": {},
   "cell_type": "markdown",
   "metadata": {},
   "source": [
    "#### Mean Absolute Error (MAE):"
   ]
  },
  {
   "cell_type": "code",
   "execution_count": 261,
   "metadata": {},
   "outputs": [
    {
     "name": "stdout",
     "output_type": "stream",
     "text": [
      "0.5\n"
     ]
    }
   ],
   "source": [
    "from sklearn.metrics import mean_absolute_error\n",
    "\n",
    "# true values\n",
    "y_true = [3, -0.5, 2, 7]\n",
    "# predicted values\n",
    "y_pred = [2.5, 0.0, 2, 8]\n",
    "\n",
    "mae = mean_absolute_error(y_true, y_pred)\n",
    "print(mae)"
   ]
  },
  {
   "attachments": {},
   "cell_type": "markdown",
   "metadata": {},
   "source": [
    "### Warnings: <a class='anchor' id='warnings'></a>"
   ]
  },
  {
   "cell_type": "code",
   "execution_count": 262,
   "metadata": {},
   "outputs": [],
   "source": [
    "import warnings\n",
    "\n",
    "# Ignore all warnings\n",
    "warnings.filterwarnings(\"ignore\")\n",
    "\n",
    "# Ignore specific warning\n",
    "warnings.filterwarnings(\"ignore\", category=UserWarning)\n",
    "warnings.filterwarnings(\"ignore\", category=DeprecationWarning)"
   ]
  },
  {
   "attachments": {},
   "cell_type": "markdown",
   "metadata": {},
   "source": [
    "### Frequency:"
   ]
  },
  {
   "cell_type": "code",
   "execution_count": 263,
   "metadata": {},
   "outputs": [
    {
     "name": "stderr",
     "output_type": "stream",
     "text": [
      "UsageError: Cell magic `%%` not found.\n"
     ]
    }
   ],
   "source": [
    "%% skip\n",
    "#Doesn't work all the time (need integer entries to compute frequencies (which makes sense))\n",
    "degseq = df['ftr1']\n",
    "dmax = max(degseq)+1\n",
    "freq= [ 0 for d in range(dmax) ]\n",
    "for d in degseq: #same for degseq_out    \n",
    "    freq[d] += 1\n",
    "\n",
    "plt.plot(freq)\n",
    "plt.ylabel('number of appearances')\n",
    "plt.xlabel('indegree of targets')"
   ]
  },
  {
   "cell_type": "code",
   "execution_count": 268,
   "metadata": {},
   "outputs": [
    {
     "data": {
      "text/plain": [
       "Text(0.5, 0, 'indegree of targets')"
      ]
     },
     "execution_count": 268,
     "metadata": {},
     "output_type": "execute_result"
    },
    {
     "data": {
      "image/png": "[encoded data removed]",
      "text/plain": [
       "<Figure size 640x480 with 1 Axes>"
      ]
     },
     "metadata": {},
     "output_type": "display_data"
    }
   ],
   "source": [
    "degseq = round(df['ftr1']).astype(int)\n",
    "dmax = max(degseq)+1\n",
    "freq= [ 0 for d in range(dmax) ]\n",
    "for d in degseq: #same for degseq_out    \n",
    "    freq[d] += 1\n",
    "\n",
    "plt.plot(freq)\n",
    "plt.ylabel('number of appearances')\n",
    "plt.xlabel('indegree of targets')"
   ]
  },
  {
   "cell_type": "code",
   "execution_count": null,
   "metadata": {},
   "outputs": [],
   "source": []
  }
 ],
 "metadata": {
  "kernelspec": {
   "display_name": "ada",
   "language": "python",
   "name": "python3"
  },
  "language_info": {
   "codemirror_mode": {
    "name": "ipython",
    "version": 3
   },
   "file_extension": ".py",
   "mimetype": "text/x-python",
   "name": "python",
   "nbconvert_exporter": "python",
   "pygments_lexer": "ipython3",
   "version": "3.9.13"
  },
  "orig_nbformat": 4,
  "vscode": {
   "interpreter": {
    "hash": "faf7d6ed75ed7c5983c8b8c663c43d66c206a8e5fc8fdda408f4c308fc80edef"
   }
  }
 },
 "nbformat": 4,
 "nbformat_minor": 2
}
